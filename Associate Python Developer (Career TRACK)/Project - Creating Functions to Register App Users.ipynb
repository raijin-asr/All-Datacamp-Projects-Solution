{
 "cells": [
  {
   "cell_type": "markdown",
   "metadata": {},
   "source": [
    "You are a junior developer working in a small start-up. Your managers have asked you to develop a new account registration system for a mobile app. The system must validate user input on the sign-up form before creating an account. \n",
    "\n",
    "The previous junior developer wrote some helper functions that validate the name, email, and password. Use these functions to register users, store their data, and implement some error handling! These have been imported into the workspace for you. They will be a great help to you when registering the user, but first you have to understand what the function does! Inspect the docstrings of each of the helper functions: `validate_name`, `validate_email` and `validate_password`."
   ]
  },
  {
   "cell_type": "code",
   "execution_count": null,
   "metadata": {},
   "outputs": [],
   "source": [
    "# Re-run this cell and examine the docstring of each function\n",
    "from python_functions import validate_name, validate_email, validate_password, top_level_domains\n",
    "\n",
    "print(\"validate_name\\n\")\n",
    "print(validate_name.__doc__)\n",
    "print(\"--------------------\\n\")\n",
    "\n",
    "print(\"validate_email\\n\")\n",
    "print(validate_email.__doc__) \n",
    "print(\"--------------------\\n\")\n",
    "\n",
    "print(\"validate_password\\n\")\n",
    "print(validate_password.__doc__)\n",
    "\n",
    "# The top level domains variable is used in validate_email to approve only certain email domains\n",
    "print(top_level_domains)"
   ]
  },
  {
   "cell_type": "code",
   "execution_count": null,
   "metadata": {},
   "outputs": [],
   "source": [
    "# Start coding here\n",
    "# Use as many cells as you need\n",
    "def validate_user(name,email,password):\n",
    "    if validate_name(name) == False:\n",
    "        raise ValueError(\"Input some valid name\")\n",
    "    \n",
    "    if validate_email(email) == False:\n",
    "        raise ValueError(\"Input some valid email\")\n",
    "        \n",
    "    if validate_password(password) == False:\n",
    "        raise ValueError(\"Input some valid password\")\n",
    "        \n",
    "    return True\n",
    "    \n",
    "def register_user(name, email, password):\n",
    "    if validate_user(name,email,password):\n",
    "        user= {\n",
    "            \"name\":name,\n",
    "            \"email\":email,\n",
    "            \"password\": password\n",
    "        }\n",
    "        return user\n",
    "    else:\n",
    "        return False\n",
    "    "
   ]
  }
 ],
 "metadata": {
  "kernelspec": {
   "display_name": "Python 3",
   "language": "python",
   "name": "python3"
  },
  "language_info": {
   "name": "python",
   "version": "3.12.3"
  }
 },
 "nbformat": 4,
 "nbformat_minor": 2
}

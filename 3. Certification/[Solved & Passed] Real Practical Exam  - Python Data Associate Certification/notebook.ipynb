{
 "cells": [
  {
   "cell_type": "markdown",
   "id": "8d0bcede-0826-475c-8678-72835c042b37",
   "metadata": {},
   "source": [
    "# Practical Exam: Spectrum Shades LLC\n",
    "Spectrum Shades LLC is a prominent supplier of concrete color solutions, offering a wide range of pigments and coloring systems used in various concrete applications, including decorative concrete, precast concrete, and concrete pavers. The company prides itself on delivering high-quality colorants that meet the unique needs of its diverse clientele, including contractors, architects, and construction companies.\n",
    "</br></br>\n",
    "The company has recently observed a growing number of customer complaints regarding inconsistent color quality in their products. The discrepancies have led to a decline in customer satisfaction and a potential increase in product returns.\n",
    "By identifying and mitigating the factors causing color variations, the company can enhance product reliability, reduce customer complaints, and minimize return rates.\n",
    "</br></br>\n",
    "You are part of the data analysis team tasked with providing actionable insights to help Spectrum Shades LLC address the issues of inconsistent color quality and improve customer satisfaction."
   ]
  },
  {
   "cell_type": "markdown",
   "id": "c0d5a3bb-bbae-4d39-a6c6-daa46c470347",
   "metadata": {},
   "source": [
    "# Task 1\n",
    "\n",
    "Before you can start any analysis, you need to confirm that the data is accurate and reflects what you expect to see. \n",
    "\n",
    "It is known that there are some issues with the `production_data` table, and the data team have provided the following data description. \n",
    "\n",
    "Write a query to ensure the data matches the description provided, including identifying and cleaning all invalid values. You must match all column names and description criteria.\n",
    "</br>\n",
    "\n",
    "- You should start with the data in the file \"production_data.csv\".\n",
    "- Your output should be a DataFrame named clean_data.\n",
    "- All column names and values should match the table below.\n",
    "</br>\n",
    "\n",
    "| Column Name             | Criteria                                                                                         |\n",
    "|--------------------------|--------------------------------------------------------------------------------------------------|\n",
    "| batch_id | Discrete. Identifier for each batch. Missing values are not possible. |\n",
    "| production_date | Date. Date when the batch was produced.|\n",
    "| raw_material_supplier | Categorical. Supplier of the raw materials. (1='national_supplier', 2='international_supplier'). <br> Missing values should be replaced with 'national_supplier'.|\n",
    "| pigment_type           | Nominal. Type of pigment used. ['type_a', 'type_b', 'type_c']. <br> Missing values should be replaced with 'other'. |\n",
    "| pigment_quantity       | Continuous. Amount of pigment added (in kilograms) (Range: 1 - 100). <br> Missing values should be replaced with median. |\n",
    "| mixing_time           | Continuous. Duration of the mixing process (in minutes). <br> Missing values should be replaced with mean, rounded to 2 decimal places. |\n",
    "| mixing_speed          | Categorical. Speed of the mixing process represented as categories: 'Low', 'Medium', 'High'.</br> Missing values should be replaced with 'Not Specified'. |\n",
    "| product_quality_score | Continuous. Overall quality score of the final product (rating on a scale of 1 to 10). <br> Missing values should be replaced with mean, rounded to 2 decimal places. |\n"
   ]
  },
  {
   "cell_type": "code",
   "execution_count": null,
   "id": "5ce18b54-29af-4beb-bc8c-79c4e21bcd52",
   "metadata": {
    "executionCancelledAt": null,
    "executionTime": 59,
    "lastExecutedAt": 1749896381835,
    "lastExecutedByKernel": "58fe8ecc-5e18-45e3-a28b-d2b4c215a112",
    "lastScheduledRunId": null,
    "lastSuccessfullyExecutedCode": "# Write your answer to Task 1 here\nimport pandas as pd\nimport numpy as np\n\nproduction_df= pd.read_csv(\"production_data.csv\")\n\n# pd_df.head()\n\nclean_data= production_df.copy()\n\n# production_date part\nclean_data['production_date'] = pd.to_datetime(clean_data['production_date'], errors='coerce')\n\n# raw_material_supplier part\nclean_data['raw_material_supplier'] = clean_data['raw_material_supplier'].replace({\n    1: 'national_supplier',\n    2: 'international_supplier'\n})\n\nclean_data['raw_material_supplier'] = clean_data['raw_material_supplier'].astype(str).str.strip().str.lower()\n\nclean_data['raw_material_supplier'] = clean_data['raw_material_supplier'].replace({\n    '1': 'national_supplier',\n    '2': 'international_supplier'\n})\n\nvalid_suppliers = ['national_supplier', 'international_supplier']\nclean_data['raw_material_supplier'] = clean_data['raw_material_supplier'].apply(\n    lambda x: x if x in valid_suppliers else 'national_supplier'\n)\n\n\n# pigment_type part\nvalid_pigment_types = ['type_a', 'type_b', 'type_c']\n\nclean_data['pigment_type'] = clean_data['pigment_type'].astype(str).str.strip().str.lower()\nclean_data['pigment_type'] = clean_data['pigment_type'].apply(\n    lambda x: x if x in valid_pigment_types else 'other'\n)\n\n# pigment_quantity part\nclean_data.loc[(clean_data['pigment_quantity'] < 1) | (clean_data['pigment_quantity'] > 100), 'pigment_quantity'] = np.nan\n\nmedian_pigment_quantity = clean_data['pigment_quantity'].median()\nclean_data['pigment_quantity'] = clean_data['pigment_quantity'].fillna(median_pigment_quantity)\n\n# mixing_time part\nmean_mixing_time = clean_data['mixing_time'].mean()\nclean_data['mixing_time'] = clean_data['mixing_time'].fillna(mean_mixing_time).round(2)\n\n# mixing_speed part\nvalid_mixing_speeds = ['Low', 'Medium', 'High']\nclean_data['mixing_speed'] = clean_data['mixing_speed'].astype(str).str.strip().str.title()\nclean_data['mixing_speed'] = clean_data['mixing_speed'].apply(\n    lambda x: x if x in valid_mixing_speeds else 'Not Specified'\n)\n\n#product_quality_score\nclean_data.loc[(clean_data['product_quality_score'] < 1) | (clean_data['product_quality_score'] > 10), 'product_quality_score'] = np.nan\n\nmean_product_quality_score = clean_data['product_quality_score'].mean()\nclean_data['product_quality_score'] = clean_data['product_quality_score'].fillna(mean_product_quality_score).round(2)\n\n# visualizing output\nclean_data.info()\n\nclean_data.head()\n\nclean_data.isnull().sum()",
    "outputsMetadata": {
     "0": {
      "height": 332,
      "type": "stream"
     },
     "1": {
      "height": 50,
      "tableState": {
       "customFilter": {
        "const": {
         "type": "boolean",
         "valid": true,
         "value": true
        },
        "id": "a2b6a386-7edc-4d8d-8e70-27c44e673836",
        "nodeType": "const"
       }
      },
      "type": "dataFrame"
     }
    }
   },
   "outputs": [
    {
     "name": "stdout",
     "output_type": "stream",
     "text": [
      "<class 'pandas.core.frame.DataFrame'>\n",
      "RangeIndex: 2000 entries, 0 to 1999\n",
      "Data columns (total 8 columns):\n",
      " #   Column                 Non-Null Count  Dtype         \n",
      "---  ------                 --------------  -----         \n",
      " 0   batch_id               2000 non-null   int64         \n",
      " 1   production_date        2000 non-null   datetime64[ns]\n",
      " 2   raw_material_supplier  2000 non-null   object        \n",
      " 3   pigment_type           2000 non-null   object        \n",
      " 4   pigment_quantity       2000 non-null   float64       \n",
      " 5   mixing_time            2000 non-null   float64       \n",
      " 6   mixing_speed           2000 non-null   object        \n",
      " 7   product_quality_score  2000 non-null   float64       \n",
      "dtypes: datetime64[ns](1), float64(3), int64(1), object(3)\n",
      "memory usage: 125.1+ KB\n"
     ]
    },
    {
     "data": {
      "application/com.datacamp.data-table.v2+json": {
       "table": {
        "data": {
         "0": [
          0,
          0,
          0,
          0,
          0,
          0,
          0,
          0
         ],
         "index": [
          "batch_id",
          "production_date",
          "raw_material_supplier",
          "pigment_type",
          "pigment_quantity",
          "mixing_time",
          "mixing_speed",
          "product_quality_score"
         ]
        },
        "schema": {
         "fields": [
          {
           "name": "index",
           "type": "string"
          },
          {
           "name": "0",
           "type": "integer"
          }
         ],
         "pandas_version": "1.4.0",
         "primaryKey": [
          "index"
         ]
        }
       },
       "total_rows": 8,
       "truncation_type": null
      },
      "text/plain": [
       "batch_id                 0\n",
       "production_date          0\n",
       "raw_material_supplier    0\n",
       "pigment_type             0\n",
       "pigment_quantity         0\n",
       "mixing_time              0\n",
       "mixing_speed             0\n",
       "product_quality_score    0\n",
       "dtype: int64"
      ]
     },
     "execution_count": 42,
     "metadata": {
      "application/com.datacamp.data-table.v2+json": {
       "status": "success"
      }
     },
     "output_type": "execute_result"
    }
   ],
   "source": [
    "import pandas as pd\n",
    "import numpy as np\n",
    "\n",
    "production_df= pd.read_csv(\"production_data.csv\")\n",
    "\n",
    "# pd_df.head()\n",
    "\n",
    "clean_data= production_df.copy()\n",
    "\n",
    "# production_date part\n",
    "clean_data['production_date'] = pd.to_datetime(clean_data['production_date'], errors='coerce')\n",
    "\n",
    "# raw_material_supplier part\n",
    "clean_data['raw_material_supplier'] = clean_data['raw_material_supplier'].replace({\n",
    "    1: 'national_supplier',\n",
    "    2: 'international_supplier'\n",
    "})\n",
    "\n",
    "clean_data['raw_material_supplier'] = clean_data['raw_material_supplier'].astype(str).str.strip().str.lower()\n",
    "\n",
    "clean_data['raw_material_supplier'] = clean_data['raw_material_supplier'].replace({\n",
    "    '1': 'national_supplier',\n",
    "    '2': 'international_supplier'\n",
    "})\n",
    "\n",
    "valid_suppliers = ['national_supplier', 'international_supplier']\n",
    "clean_data['raw_material_supplier'] = clean_data['raw_material_supplier'].apply(\n",
    "    lambda x: x if x in valid_suppliers else 'national_supplier'\n",
    ")\n",
    "\n",
    "\n",
    "# pigment_type part\n",
    "valid_pigment_types = ['type_a', 'type_b', 'type_c']\n",
    "\n",
    "clean_data['pigment_type'] = clean_data['pigment_type'].astype(str).str.strip().str.lower()\n",
    "clean_data['pigment_type'] = clean_data['pigment_type'].apply(\n",
    "    lambda x: x if x in valid_pigment_types else 'other'\n",
    ")\n",
    "\n",
    "# pigment_quantity part\n",
    "clean_data.loc[(clean_data['pigment_quantity'] < 1) | (clean_data['pigment_quantity'] > 100), 'pigment_quantity'] = np.nan\n",
    "\n",
    "median_pigment_quantity = clean_data['pigment_quantity'].median()\n",
    "clean_data['pigment_quantity'] = clean_data['pigment_quantity'].fillna(median_pigment_quantity)\n",
    "\n",
    "# mixing_time part\n",
    "mean_mixing_time = clean_data['mixing_time'].mean()\n",
    "clean_data['mixing_time'] = clean_data['mixing_time'].fillna(mean_mixing_time).round(2)\n",
    "\n",
    "# mixing_speed part\n",
    "valid_mixing_speeds = ['Low', 'Medium', 'High']\n",
    "clean_data['mixing_speed'] = clean_data['mixing_speed'].astype(str).str.strip().str.title()\n",
    "clean_data['mixing_speed'] = clean_data['mixing_speed'].apply(\n",
    "    lambda x: x if x in valid_mixing_speeds else 'Not Specified'\n",
    ")\n",
    "\n",
    "#product_quality_score\n",
    "clean_data.loc[(clean_data['product_quality_score'] < 1) | (clean_data['product_quality_score'] > 10), 'product_quality_score'] = np.nan\n",
    "\n",
    "mean_product_quality_score = clean_data['product_quality_score'].mean()\n",
    "clean_data['product_quality_score'] = clean_data['product_quality_score'].fillna(mean_product_quality_score).round(2)\n",
    "\n",
    "# visualizing output\n",
    "clean_data.info()\n",
    "\n",
    "clean_data.head()\n",
    "\n",
    "clean_data.isnull().sum()"
   ]
  },
  {
   "cell_type": "code",
   "execution_count": 44,
   "id": "4c0e4600-cca5-47a4-8f56-603a3ad06fef",
   "metadata": {
    "executionCancelledAt": null,
    "executionTime": 27,
    "lastExecutedAt": 1749896404618,
    "lastExecutedByKernel": "58fe8ecc-5e18-45e3-a28b-d2b4c215a112",
    "lastScheduledRunId": null,
    "lastSuccessfullyExecutedCode": "clean_data.head()",
    "outputsMetadata": {
     "0": {
      "height": 500,
      "tableState": {},
      "type": "dataFrame"
     }
    }
   },
   "outputs": [
    {
     "data": {
      "application/com.datacamp.data-table.v2+json": {
       "table": {
        "data": {
         "batch_id": [
          1,
          2,
          3,
          4,
          5
         ],
         "index": [
          0,
          1,
          2,
          3,
          4
         ],
         "mixing_speed": [
          "High",
          "High",
          "High",
          "High",
          "High"
         ],
         "mixing_time": [
          22.56,
          44.97,
          52.62,
          24.96,
          25.37
         ],
         "pigment_quantity": [
          42.82288066,
          42.87347936,
          33.25120551,
          52.53281707,
          36.20510832
         ],
         "pigment_type": [
          "type_a",
          "type_b",
          "type_b",
          "type_a",
          "type_c"
         ],
         "product_quality_score": [
          7.17,
          6.85,
          5.66,
          6.99,
          7.1
         ],
         "production_date": [
          "2024-06-25T00:00:00.000",
          "2023-11-23T00:00:00.000",
          "2024-02-18T00:00:00.000",
          "2023-11-11T00:00:00.000",
          "2024-04-11T00:00:00.000"
         ],
         "raw_material_supplier": [
          "national_supplier",
          "international_supplier",
          "international_supplier",
          "national_supplier",
          "international_supplier"
         ]
        },
        "schema": {
         "fields": [
          {
           "name": "index",
           "type": "integer"
          },
          {
           "name": "batch_id",
           "type": "integer"
          },
          {
           "name": "production_date",
           "type": "datetime"
          },
          {
           "name": "raw_material_supplier",
           "type": "string"
          },
          {
           "name": "pigment_type",
           "type": "string"
          },
          {
           "name": "pigment_quantity",
           "type": "number"
          },
          {
           "name": "mixing_time",
           "type": "number"
          },
          {
           "name": "mixing_speed",
           "type": "string"
          },
          {
           "name": "product_quality_score",
           "type": "number"
          }
         ],
         "pandas_version": "1.4.0",
         "primaryKey": [
          "index"
         ]
        }
       },
       "total_rows": 5,
       "truncation_type": null
      },
      "text/html": [
       "<div>\n",
       "<style scoped>\n",
       "    .dataframe tbody tr th:only-of-type {\n",
       "        vertical-align: middle;\n",
       "    }\n",
       "\n",
       "    .dataframe tbody tr th {\n",
       "        vertical-align: top;\n",
       "    }\n",
       "\n",
       "    .dataframe thead th {\n",
       "        text-align: right;\n",
       "    }\n",
       "</style>\n",
       "<table border=\"1\" class=\"dataframe\">\n",
       "  <thead>\n",
       "    <tr style=\"text-align: right;\">\n",
       "      <th></th>\n",
       "      <th>batch_id</th>\n",
       "      <th>production_date</th>\n",
       "      <th>raw_material_supplier</th>\n",
       "      <th>pigment_type</th>\n",
       "      <th>pigment_quantity</th>\n",
       "      <th>mixing_time</th>\n",
       "      <th>mixing_speed</th>\n",
       "      <th>product_quality_score</th>\n",
       "    </tr>\n",
       "  </thead>\n",
       "  <tbody>\n",
       "    <tr>\n",
       "      <th>0</th>\n",
       "      <td>1</td>\n",
       "      <td>2024-06-25</td>\n",
       "      <td>national_supplier</td>\n",
       "      <td>type_a</td>\n",
       "      <td>42.822881</td>\n",
       "      <td>22.56</td>\n",
       "      <td>High</td>\n",
       "      <td>7.17</td>\n",
       "    </tr>\n",
       "    <tr>\n",
       "      <th>1</th>\n",
       "      <td>2</td>\n",
       "      <td>2023-11-23</td>\n",
       "      <td>international_supplier</td>\n",
       "      <td>type_b</td>\n",
       "      <td>42.873479</td>\n",
       "      <td>44.97</td>\n",
       "      <td>High</td>\n",
       "      <td>6.85</td>\n",
       "    </tr>\n",
       "    <tr>\n",
       "      <th>2</th>\n",
       "      <td>3</td>\n",
       "      <td>2024-02-18</td>\n",
       "      <td>international_supplier</td>\n",
       "      <td>type_b</td>\n",
       "      <td>33.251206</td>\n",
       "      <td>52.62</td>\n",
       "      <td>High</td>\n",
       "      <td>5.66</td>\n",
       "    </tr>\n",
       "    <tr>\n",
       "      <th>3</th>\n",
       "      <td>4</td>\n",
       "      <td>2023-11-11</td>\n",
       "      <td>national_supplier</td>\n",
       "      <td>type_a</td>\n",
       "      <td>52.532817</td>\n",
       "      <td>24.96</td>\n",
       "      <td>High</td>\n",
       "      <td>6.99</td>\n",
       "    </tr>\n",
       "    <tr>\n",
       "      <th>4</th>\n",
       "      <td>5</td>\n",
       "      <td>2024-04-11</td>\n",
       "      <td>international_supplier</td>\n",
       "      <td>type_c</td>\n",
       "      <td>36.205108</td>\n",
       "      <td>25.37</td>\n",
       "      <td>High</td>\n",
       "      <td>7.10</td>\n",
       "    </tr>\n",
       "  </tbody>\n",
       "</table>\n",
       "</div>"
      ],
      "text/plain": [
       "   batch_id production_date  ... mixing_speed product_quality_score\n",
       "0         1      2024-06-25  ...         High                  7.17\n",
       "1         2      2023-11-23  ...         High                  6.85\n",
       "2         3      2024-02-18  ...         High                  5.66\n",
       "3         4      2023-11-11  ...         High                  6.99\n",
       "4         5      2024-04-11  ...         High                  7.10\n",
       "\n",
       "[5 rows x 8 columns]"
      ]
     },
     "execution_count": 44,
     "metadata": {
      "application/com.datacamp.data-table.v2+json": {
       "status": "success"
      }
     },
     "output_type": "execute_result"
    }
   ],
   "source": [
    "#clean_data.head()"
   ]
  },
  {
   "cell_type": "markdown",
   "id": "026b3c30-d3b0-4762-ae10-0f2880873bdc",
   "metadata": {},
   "source": [
    "# Task 2\n",
    "\n",
    "You want to understand how the supplier type and quantity of materials affect the final product attributes.\n",
    "\n",
    "Calculate the average `product_quality_score` and `pigment_quantity` grouped by `raw_material_supplier`.\n",
    "\n",
    "- You should start with the data in the file 'production_data.csv'. \n",
    "- Your output should be a DataFrame named aggregated_data.\n",
    "- It should include the three columns: `raw_material_supplier`, `avg_product_quality_score`, and `avg_pigment_quantity`.\n",
    "- Your answers should be rounded to 2 decimal places.\n"
   ]
  },
  {
   "cell_type": "code",
   "execution_count": null,
   "id": "6d47e440-c4ab-45cf-af40-53181764bac4",
   "metadata": {
    "executionCancelledAt": null,
    "executionTime": 54,
    "lastExecutedAt": 1749896428772,
    "lastExecutedByKernel": "58fe8ecc-5e18-45e3-a28b-d2b4c215a112",
    "lastScheduledRunId": null,
    "lastSuccessfullyExecutedCode": "# Write your answer to Task 2 here\n\naggregated_data = clean_data.groupby('raw_material_supplier').agg(\n    avg_product_quality_score=('product_quality_score', 'mean'),\n    avg_pigment_quantity=('pigment_quantity', 'mean')\n).round(2)\n\naggregated_data = aggregated_data.reset_index()\n\nprint(aggregated_data)\n\n",
    "outputsMetadata": {
     "0": {
      "height": 80,
      "type": "stream"
     }
    }
   },
   "outputs": [
    {
     "name": "stdout",
     "output_type": "stream",
     "text": [
      "    raw_material_supplier  avg_product_quality_score  avg_pigment_quantity\n",
      "0  international_supplier                       5.97                 34.91\n",
      "1       national_supplier                       8.02                 44.73\n"
     ]
    }
   ],
   "source": [
    "\n",
    "aggregated_data = clean_data.groupby('raw_material_supplier').agg(\n",
    "    avg_product_quality_score=('product_quality_score', 'mean'),\n",
    "    avg_pigment_quantity=('pigment_quantity', 'mean')\n",
    ").round(2)\n",
    "\n",
    "aggregated_data = aggregated_data.reset_index()\n",
    "\n",
    "print(aggregated_data)\n",
    "\n"
   ]
  },
  {
   "cell_type": "markdown",
   "id": "cb821882-c29a-42e7-bff8-e281dc068a9b",
   "metadata": {},
   "source": [
    "# Task 3\n",
    "\n",
    "To get more insight into the factors behind product quality, you want to filter the data to see an average product quality score for a specified set of results.\n",
    "\n",
    "Identify the average `product_quality_score` for batches with a `raw_material_supplier` of 2 and a `pigment_quantity` greater than 35 kg.\n",
    "\n",
    "Write a query to return the average `avg_product_quality_score` for these filtered batches. Use the original production data table, not the output of Task 2.\n",
    "\n",
    "- You should start with the data in the file 'production_data.csv'. \n",
    "- Your output should be a DataFrame named pigment_data.\n",
    "- It should consist of a 1-row DataFrame with 3 columns: `raw_material_supplier`, `pigment_quantity`, and `avg_product_quality_score`.\n",
    "- Your answers should be rounded to 2 decimal places where appropriate.\n"
   ]
  },
  {
   "cell_type": "code",
   "execution_count": null,
   "id": "b30f8d6b-21cc-4de7-9c88-dffeb602f9d3",
   "metadata": {
    "executionCancelledAt": null,
    "executionTime": 25,
    "lastExecutedAt": 1749896436504,
    "lastExecutedByKernel": "58fe8ecc-5e18-45e3-a28b-d2b4c215a112",
    "lastScheduledRunId": null,
    "lastSuccessfullyExecutedCode": "# Write your answer to Task 3 here\n\nproduction_df= pd.read_csv(\"production_data.csv\")\n\nfiltered = production_df[\n    (production_df['raw_material_supplier'] ==2) &\n    (production_df['pigment_quantity'] >35)\n]\n\navg_quality_score= filtered['product_quality_score'].mean()\n\npigment_data= pd.DataFrame({\n    'raw_material_supplier': [2],\n    'pigment_quantity': ['>35 kg'],\n    'avg_product_quality_score': [round(avg_quality_score,2)]\n})\n\nprint(pigment_data)",
    "outputsMetadata": {
     "0": {
      "height": 59,
      "type": "stream"
     }
    }
   },
   "outputs": [
    {
     "name": "stdout",
     "output_type": "stream",
     "text": [
      "   raw_material_supplier pigment_quantity  avg_product_quality_score\n",
      "0                      2           >35 kg                       5.97\n"
     ]
    }
   ],
   "source": [
    "\n",
    "production_df= pd.read_csv(\"production_data.csv\")\n",
    "\n",
    "filtered = production_df[\n",
    "    (production_df['raw_material_supplier'] ==2) &\n",
    "    (production_df['pigment_quantity'] >35)\n",
    "]\n",
    "\n",
    "avg_quality_score= filtered['product_quality_score'].mean()\n",
    "\n",
    "pigment_data= pd.DataFrame({\n",
    "    'raw_material_supplier': [2],\n",
    "    'pigment_quantity': ['>35 kg'],\n",
    "    'avg_product_quality_score': [round(avg_quality_score,2)]\n",
    "})\n",
    "\n",
    "print(pigment_data)"
   ]
  },
  {
   "cell_type": "markdown",
   "id": "42718e48-205a-48ab-8ddc-a93857b71726",
   "metadata": {},
   "source": [
    "# Task 4\n",
    "\n",
    "In order to proceed with further analysis later, you need to analyze how various factors relate to product quality. Start by calculating the mean and standard deviation for the following columns: `pigment_quantity`, and `product_quality_score`. </br> These statistics will help in understanding the central tendency and variability of the data related to product quality.\n",
    "</br> </br >\n",
    "Next, calculate the Pearson correlation coefficient between the following variables: `pigment_quantity`, and `product_quality_score`.\n",
    "</br>\n",
    "These correlation coefficients will provide insights into the strength and direction of the relationships between the factors and overall product quality.\n",
    "\n",
    "\n",
    "- You should start with the data in the file 'production_data.csv'.\n",
    "- Calculate the mean and standard deviation for the columns pigment_quantity and product_quality_score as: `product_quality_score_mean`, `product_quality_score_sd`, `pigment_quantity_mean`, `pigment_quantity_sd`.\n",
    "- Calculate the Pearson correlation coefficient between pigment_quantity and product_quality_score as: `corr_coef`\n",
    "- Your output should be a DataFrame named product_quality.\n",
    "- It should include the columns: `product_quality_score_mean`, `product_quality_score_sd`, `pigment_quantity_mean`, `pigment_quantity_sd`, `corr_coef`.\n",
    "- Ensure that your answers are rounded to 2 decimal places.\n"
   ]
  },
  {
   "cell_type": "code",
   "execution_count": null,
   "id": "eb9b11fd-07d5-4a39-b2fa-afaa69285e3b",
   "metadata": {
    "executionCancelledAt": null,
    "executionTime": 52,
    "lastExecutedAt": 1749895321255,
    "lastExecutedByKernel": "58fe8ecc-5e18-45e3-a28b-d2b4c215a112",
    "lastScheduledRunId": null,
    "lastSuccessfullyExecutedCode": "# Write your answer to Task 4 here\n\nproduct_quality_score_mean = production_df['product_quality_score'].mean()\nproduct_quality_score_sd = production_df['product_quality_score'].std()\npigment_quantity_mean = production_df['pigment_quantity'].mean()\npigment_quantity_sd = production_df['pigment_quantity'].std()\n\ncorr_coef = production_df['pigment_quantity'].corr(production_df['product_quality_score'])\n\nproduct_quality = pd.DataFrame({\n    'product_quality_score_mean': [round(product_quality_score_mean, 2)],\n    'product_quality_score_sd': [round(product_quality_score_sd, 2)],\n    'pigment_quantity_mean': [round(pigment_quantity_mean, 2)],\n    'pigment_quantity_sd': [round(pigment_quantity_sd, 2)],\n    'corr_coef': [round(corr_coef, 2)]\n})\n\nprint(product_quality)\n\nprint(product_quality.columns)",
    "outputsMetadata": {
     "0": {
      "height": 164,
      "type": "stream"
     }
    }
   },
   "outputs": [
    {
     "name": "stdout",
     "output_type": "stream",
     "text": [
      "   product_quality_score_mean  ...  corr_coef\n",
      "0                        6.68  ...       0.49\n",
      "\n",
      "[1 rows x 5 columns]\n",
      "Index(['product_quality_score_mean', 'product_quality_score_sd',\n",
      "       'pigment_quantity_mean', 'pigment_quantity_sd', 'corr_coef'],\n",
      "      dtype='object')\n"
     ]
    }
   ],
   "source": [
    "\n",
    "product_quality_score_mean = production_df['product_quality_score'].mean()\n",
    "product_quality_score_sd = production_df['product_quality_score'].std()\n",
    "pigment_quantity_mean = production_df['pigment_quantity'].mean()\n",
    "pigment_quantity_sd = production_df['pigment_quantity'].std()\n",
    "\n",
    "corr_coef = production_df['pigment_quantity'].corr(production_df['product_quality_score'])\n",
    "\n",
    "product_quality = pd.DataFrame({\n",
    "    'product_quality_score_mean': [round(product_quality_score_mean, 2)],\n",
    "    'product_quality_score_sd': [round(product_quality_score_sd, 2)],\n",
    "    'pigment_quantity_mean': [round(pigment_quantity_mean, 2)],\n",
    "    'pigment_quantity_sd': [round(pigment_quantity_sd, 2)],\n",
    "    'corr_coef': [round(corr_coef, 2)]\n",
    "})\n",
    "\n",
    "print(product_quality)\n",
    "\n",
    "print(product_quality.columns)"
   ]
  },
  {
   "cell_type": "markdown",
   "id": "55757050-8460-4480-8ae3-634d851c1021",
   "metadata": {},
   "source": [
    "# FORMATTING AND NAMING CHECK\n",
    "Use the code block below to check that your outputs are correctly named and formatted before you submit your project.\n",
    "\n",
    "This code checks whether you have met our automarking requirements: that the specified DataFrames exist and contain the required columns. It then prints a table showing ✅ for each column that exists and ❌ for any that are missing, or if the DataFrame itself isn't available.\n",
    "\n",
    "If a DataFrame or a column in a DataFrame doesn't exist, carefully check your code again.\n",
    "\n",
    "IMPORTANT: even if your code passes the check below, this does not mean that your entire submission is correct. This is a check for naming and formatting only."
   ]
  },
  {
   "cell_type": "code",
   "execution_count": 32,
   "id": "32d20ff0-695a-4aba-9faf-c3cac0af19d8",
   "metadata": {
    "executionCancelledAt": null,
    "executionTime": 53,
    "lastExecutedAt": 1749895321308,
    "lastExecutedByKernel": "58fe8ecc-5e18-45e3-a28b-d2b4c215a112",
    "lastScheduledRunId": null,
    "lastSuccessfullyExecutedCode": "import pandas as pd\n\ndef check_columns(output_df, output_df_name, required_columns):\n    results = []\n    for col in required_columns:\n        exists = col in output_df.columns\n        results.append({'Dataset': output_df_name, 'Column': col, 'Exists': '✅' if exists else '❌'})\n    return results\n\ndef safe_check(output_df_name, required_columns):\n    results = []\n    if output_df_name in globals():\n        obj = globals()[output_df_name]\n        if isinstance(obj, pd.DataFrame):\n            results.extend(check_columns(obj, output_df_name, required_columns))\n        elif isinstance(obj, str) and (\"SELECT\" in obj.upper() or \"FROM\" in obj.upper()):\n            results.append({'Dataset': output_df_name, 'Column': '—', 'Exists': 'ℹ️ SQL query string'})\n        else:\n            results.append({'Dataset': output_df_name, 'Column': '—', 'Exists': '❌ Not a DataFrame or query'})\n    else:\n        results.append({'Dataset': output_df_name, 'Column': '—', 'Exists': '❌ Variable not defined'})\n    return results\n\nrequirements = {\n    'clean_data': ['production_date', 'pigment_type', 'mixing_time', 'mixing_speed'],\n    'aggregated_data': ['raw_material_supplier', 'avg_product_quality_score', 'avg_pigment_quantity'],\n    'pigment_data': ['raw_material_supplier', 'pigment_quantity', 'avg_product_quality_score'],\n    'product_quality': ['product_quality_score_mean', 'product_quality_score_sd',\n                        'pigment_quantity_mean', 'pigment_quantity_sd', 'corr_coef']\n}\n\nall_results = []\nfor output_df_name, cols in requirements.items():\n    all_results += safe_check(output_df_name, cols)\n\ncheck_results_df = pd.DataFrame(all_results)\n\nprint(check_results_df)",
    "outputsMetadata": {
     "0": {
      "height": 353,
      "type": "stream"
     }
    }
   },
   "outputs": [
    {
     "name": "stdout",
     "output_type": "stream",
     "text": [
      "            Dataset                      Column Exists\n",
      "0        clean_data             production_date      ✅\n",
      "1        clean_data                pigment_type      ✅\n",
      "2        clean_data                 mixing_time      ✅\n",
      "3        clean_data                mixing_speed      ✅\n",
      "4   aggregated_data       raw_material_supplier      ✅\n",
      "5   aggregated_data   avg_product_quality_score      ✅\n",
      "6   aggregated_data        avg_pigment_quantity      ✅\n",
      "7      pigment_data       raw_material_supplier      ✅\n",
      "8      pigment_data            pigment_quantity      ✅\n",
      "9      pigment_data   avg_product_quality_score      ✅\n",
      "10  product_quality  product_quality_score_mean      ✅\n",
      "11  product_quality    product_quality_score_sd      ✅\n",
      "12  product_quality       pigment_quantity_mean      ✅\n",
      "13  product_quality         pigment_quantity_sd      ✅\n",
      "14  product_quality                   corr_coef      ✅\n"
     ]
    }
   ],
   "source": [
    "import pandas as pd\n",
    "\n",
    "def check_columns(output_df, output_df_name, required_columns):\n",
    "    results = []\n",
    "    for col in required_columns:\n",
    "        exists = col in output_df.columns\n",
    "        results.append({'Dataset': output_df_name, 'Column': col, 'Exists': '✅' if exists else '❌'})\n",
    "    return results\n",
    "\n",
    "def safe_check(output_df_name, required_columns):\n",
    "    results = []\n",
    "    if output_df_name in globals():\n",
    "        obj = globals()[output_df_name]\n",
    "        if isinstance(obj, pd.DataFrame):\n",
    "            results.extend(check_columns(obj, output_df_name, required_columns))\n",
    "        elif isinstance(obj, str) and (\"SELECT\" in obj.upper() or \"FROM\" in obj.upper()):\n",
    "            results.append({'Dataset': output_df_name, 'Column': '—', 'Exists': 'ℹ️ SQL query string'})\n",
    "        else:\n",
    "            results.append({'Dataset': output_df_name, 'Column': '—', 'Exists': '❌ Not a DataFrame or query'})\n",
    "    else:\n",
    "        results.append({'Dataset': output_df_name, 'Column': '—', 'Exists': '❌ Variable not defined'})\n",
    "    return results\n",
    "\n",
    "requirements = {\n",
    "    'clean_data': ['production_date', 'pigment_type', 'mixing_time', 'mixing_speed'],\n",
    "    'aggregated_data': ['raw_material_supplier', 'avg_product_quality_score', 'avg_pigment_quantity'],\n",
    "    'pigment_data': ['raw_material_supplier', 'pigment_quantity', 'avg_product_quality_score'],\n",
    "    'product_quality': ['product_quality_score_mean', 'product_quality_score_sd',\n",
    "                        'pigment_quantity_mean', 'pigment_quantity_sd', 'corr_coef']\n",
    "}\n",
    "\n",
    "all_results = []\n",
    "for output_df_name, cols in requirements.items():\n",
    "    all_results += safe_check(output_df_name, cols)\n",
    "\n",
    "check_results_df = pd.DataFrame(all_results)\n",
    "\n",
    "print(check_results_df)"
   ]
  }
 ],
 "metadata": {
  "colab": {
   "name": "Welcome to DataCamp Workspaces.ipynb",
   "provenance": []
  },
  "editor": "DataLab",
  "kernelspec": {
   "display_name": "Python 3 (ipykernel)",
   "language": "python",
   "name": "python3"
  },
  "language_info": {
   "codemirror_mode": {
    "name": "ipython",
    "version": 3
   },
   "file_extension": ".py",
   "mimetype": "text/x-python",
   "name": "python",
   "nbconvert_exporter": "python",
   "pygments_lexer": "ipython3",
   "version": "3.8.10"
  }
 },
 "nbformat": 4,
 "nbformat_minor": 5
}

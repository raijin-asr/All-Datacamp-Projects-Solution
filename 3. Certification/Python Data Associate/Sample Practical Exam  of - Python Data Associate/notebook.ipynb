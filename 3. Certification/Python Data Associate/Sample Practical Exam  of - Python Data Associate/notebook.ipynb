{
 "cells": [
  {
   "cell_type": "markdown",
   "id": "8d0bcede-0826-475c-8678-72835c042b37",
   "metadata": {},
   "source": [
    "# Sample Exam: Python Associate Exam - VoltBike Innovations\n",
    "\n",
    "VoltBike Innovations is a leading company in the electric bicycle (e-bike) industry, specializing in the design and manufacture of high-performance e-bikes. The company is dedicated to advancing urban mobility solutions by delivering state-of-the-art e-bikes with features such as varying motor powers, advanced battery capacities, and efficient charge systems.\n",
    "\n",
    "Recently, VoltBike Innovations has encountered some challenges in managing production costs while ensuring high levels of customer satisfaction. These issues have led to increased production expenses and variability in costs, impacting overall profitability.\n",
    "\n",
    "You are part of the data analysis team tasked with providing actionable insights to help VoltBike Innovations address these challenges."
   ]
  },
  {
   "cell_type": "markdown",
   "id": "c0d5a3bb-bbae-4d39-a6c6-daa46c470347",
   "metadata": {},
   "source": [
    "# Task 1\n",
    "\n",
    "Before you can start any analysis, you need to confirm that the data is accurate and reflects what you expect to see. \n",
    "\n",
    "It is known that there are some issues with the `production_data` table, and the data team have provided the following data description. \n",
    "\n",
    "Write a query to return data matching this description. You must match all column names and description criteria.\n",
    "</br>\n",
    "Create a cleaned version of the dataframe.\n",
    "\n",
    "- You should start with the data in the file `ebike_data.csv`.\n",
    "- Your output should be a dataframe named clean_data.\n",
    "- All column names and values should match the table below.\n",
    "</br>\n",
    "\n",
    "| Column Name         | Criteria                                                                                         |\n",
    "|----------------------|--------------------------------------------------------------------------------------------------|\n",
    "| bike_type            | Categorical. Type of e-bike. ['standard', 'folding', 'mountain', 'road']. <br> Missing values should be replaced with 'standard'. |\n",
    "| frame_material       | Categorical. Material of the e-bike frame. ['aluminum', 'steel', 'carbon fiber']. <br> Missing values should be replaced with 'unknown'. |\n",
    "| production_cost      | Continuous. Cost of production (in USD). <br> Missing values should be replaced with median. |\n",
    "| assembly_time        | Continuous. Time taken for assembly (in minutes). <br> Missing values should be replaced with mean, rounded to 2 decimal places. |\n",
    "| top_speed            | Continuous. Maximum speed of the e-bike (in km/h). <br> Missing values should be replaced with mean, rounded to 2 decimal places |\n",
    "| battery_type         | Categorical. Type of battery used. ['li-ion', 'nimh', 'lead acid']. <br> Missing values should be replaced with 'other'. |\n",
    "| motor_power          | Continuous. Power output of the motor (in watts). <br> Missing values should be replaced with median. |\n",
    "| customer_score       | Continuous. Customer satisfaction score (rating on a scale of 1 to 10). <br> Missing values should be replaced with mean, rounded to 2 decimal places |\n",
    "\n"
   ]
  },
  {
   "cell_type": "code",
   "execution_count": 11,
   "id": "cc3ea6a2-31e2-41bd-85e1-153abb4a9366",
   "metadata": {
    "executionCancelledAt": null,
    "executionTime": null,
    "lastExecutedAt": null,
    "lastExecutedByKernel": null,
    "lastScheduledRunId": null,
    "lastSuccessfullyExecutedCode": null,
    "outputsMetadata": {
     "0": {
      "chartState": {
       "chartModel": {
        "cellRange": {
         "columns": [],
         "rowEndIndex": null,
         "rowEndPinned": null,
         "rowStartIndex": null,
         "rowStartPinned": null
        },
        "chartId": "id-g1v7wblbyi",
        "chartOptions": {
         "common": {
          "animation": {
           "enabled": true
          }
         }
        },
        "chartPalette": {
         "altDown": {
          "fill": "#ffa03a",
          "stroke": "#cc6f10"
         },
         "altNeutral": {
          "fill": "#b5b5b5",
          "stroke": "#575757"
         },
         "altUp": {
          "fill": "#5090dc",
          "stroke": "#2b5c95"
         },
         "down": {
          "fill": "#ef5452",
          "stroke": "#a82529"
         },
         "fills": [
          "#6568A0",
          "#43D7A4",
          "#4095DB",
          "#FACC5F",
          "#CAE279",
          "#F08083",
          "#5BCDF2",
          "#F099DC",
          "#965858",
          "#7DB64F",
          "#A98954"
         ],
         "neutral": {
          "fill": "#b5b5b5",
          "stroke": "#575757"
         },
         "strokes": [
          "#6568A0",
          "#43D7A4",
          "#4095DB",
          "#FACC5F",
          "#CAE279",
          "#F08083",
          "#5BCDF2",
          "#F099DC",
          "#965858",
          "#7DB64F",
          "#A98954"
         ],
         "up": {
          "fill": "#459d55",
          "stroke": "#1e652e"
         }
        },
        "chartThemeName": "datalabTheme",
        "chartType": "groupedColumn",
        "modelType": "range",
        "suppressChartRanges": false,
        "switchCategorySeries": false,
        "unlinkChart": false,
        "version": "32.2.2"
       },
       "rangeChartModel": {
        "rangeColumns": [],
        "switchCategorySeries": false
       }
      },
      "height": 550,
      "tableState": {},
      "type": "dataFrame"
     }
    },
    "version": "ag-charts-v1",
    "visualizeDataframe": false
   },
   "outputs": [
    {
     "data": {
      "application/com.datacamp.data-table.v2+json": {
       "table": {
        "data": {
         "assembly_time": [
          62.24,
          87.4,
          57.26,
          56.78,
          66.15
         ],
         "battery_type": [
          "lead acid",
          "nimh",
          "li-ion",
          "-",
          "li-ion"
         ],
         "bike_type": [
          "road",
          "road",
          "road",
          "mountain",
          "road"
         ],
         "customer_score": [
          3.01,
          6.67,
          7.29,
          9.35,
          7.81
         ],
         "frame_material": [
          "aluminum",
          "STEel",
          "steel",
          "steel",
          "carbon fiber"
         ],
         "index": [
          0,
          1,
          2,
          3,
          4
         ],
         "motor_power": [
          "317W",
          "230W",
          "300W",
          "369W",
          "282W"
         ],
         "production_cost": [
          219.21,
          617.81,
          608.5,
          701.25,
          584.79
         ],
         "top_speed": [
          19.63,
          26.15,
          27.84,
          30.16,
          19.77
         ]
        },
        "schema": {
         "fields": [
          {
           "name": "index",
           "type": "integer"
          },
          {
           "name": "bike_type",
           "type": "string"
          },
          {
           "name": "frame_material",
           "type": "string"
          },
          {
           "name": "production_cost",
           "type": "number"
          },
          {
           "name": "assembly_time",
           "type": "number"
          },
          {
           "name": "top_speed",
           "type": "number"
          },
          {
           "name": "battery_type",
           "type": "string"
          },
          {
           "name": "motor_power",
           "type": "string"
          },
          {
           "name": "customer_score",
           "type": "number"
          }
         ],
         "pandas_version": "1.4.0",
         "primaryKey": [
          "index"
         ]
        }
       },
       "total_rows": 5,
       "truncation_type": null
      },
      "text/html": [
       "<div>\n",
       "<style scoped>\n",
       "    .dataframe tbody tr th:only-of-type {\n",
       "        vertical-align: middle;\n",
       "    }\n",
       "\n",
       "    .dataframe tbody tr th {\n",
       "        vertical-align: top;\n",
       "    }\n",
       "\n",
       "    .dataframe thead th {\n",
       "        text-align: right;\n",
       "    }\n",
       "</style>\n",
       "<table border=\"1\" class=\"dataframe\">\n",
       "  <thead>\n",
       "    <tr style=\"text-align: right;\">\n",
       "      <th></th>\n",
       "      <th>bike_type</th>\n",
       "      <th>frame_material</th>\n",
       "      <th>production_cost</th>\n",
       "      <th>assembly_time</th>\n",
       "      <th>top_speed</th>\n",
       "      <th>battery_type</th>\n",
       "      <th>motor_power</th>\n",
       "      <th>customer_score</th>\n",
       "    </tr>\n",
       "  </thead>\n",
       "  <tbody>\n",
       "    <tr>\n",
       "      <th>0</th>\n",
       "      <td>road</td>\n",
       "      <td>aluminum</td>\n",
       "      <td>219.21</td>\n",
       "      <td>62.24</td>\n",
       "      <td>19.63</td>\n",
       "      <td>lead acid</td>\n",
       "      <td>317W</td>\n",
       "      <td>3.01</td>\n",
       "    </tr>\n",
       "    <tr>\n",
       "      <th>1</th>\n",
       "      <td>road</td>\n",
       "      <td>STEel</td>\n",
       "      <td>617.81</td>\n",
       "      <td>87.40</td>\n",
       "      <td>26.15</td>\n",
       "      <td>nimh</td>\n",
       "      <td>230W</td>\n",
       "      <td>6.67</td>\n",
       "    </tr>\n",
       "    <tr>\n",
       "      <th>2</th>\n",
       "      <td>road</td>\n",
       "      <td>steel</td>\n",
       "      <td>608.50</td>\n",
       "      <td>57.26</td>\n",
       "      <td>27.84</td>\n",
       "      <td>li-ion</td>\n",
       "      <td>300W</td>\n",
       "      <td>7.29</td>\n",
       "    </tr>\n",
       "    <tr>\n",
       "      <th>3</th>\n",
       "      <td>mountain</td>\n",
       "      <td>steel</td>\n",
       "      <td>701.25</td>\n",
       "      <td>56.78</td>\n",
       "      <td>30.16</td>\n",
       "      <td>-</td>\n",
       "      <td>369W</td>\n",
       "      <td>9.35</td>\n",
       "    </tr>\n",
       "    <tr>\n",
       "      <th>4</th>\n",
       "      <td>road</td>\n",
       "      <td>carbon fiber</td>\n",
       "      <td>584.79</td>\n",
       "      <td>66.15</td>\n",
       "      <td>19.77</td>\n",
       "      <td>li-ion</td>\n",
       "      <td>282W</td>\n",
       "      <td>7.81</td>\n",
       "    </tr>\n",
       "  </tbody>\n",
       "</table>\n",
       "</div>"
      ],
      "text/plain": [
       "  bike_type frame_material  ...  motor_power  customer_score\n",
       "0      road       aluminum  ...         317W            3.01\n",
       "1      road          STEel  ...         230W            6.67\n",
       "2      road          steel  ...         300W            7.29\n",
       "3  mountain          steel  ...         369W            9.35\n",
       "4      road   carbon fiber  ...         282W            7.81\n",
       "\n",
       "[5 rows x 8 columns]"
      ]
     },
     "execution_count": 11,
     "metadata": {
      "application/com.datacamp.data-table.v2+json": {
       "status": "success"
      }
     },
     "output_type": "execute_result"
    }
   ],
   "source": [
    "\n",
    "import pandas as pd\n",
    "import numpy as np\n",
    "\n",
    "# Load the dataset\n",
    "df = pd.read_csv('ebike_data.csv')\n",
    "\n",
    "df.head()"
   ]
  },
  {
   "cell_type": "code",
   "execution_count": 12,
   "id": "22113ad6-5abf-4c20-bd0b-ab0d4f940ef7",
   "metadata": {
    "executionCancelledAt": null,
    "executionTime": null,
    "lastExecutedAt": null,
    "lastExecutedByKernel": null,
    "lastScheduledRunId": null,
    "lastSuccessfullyExecutedCode": null,
    "outputsMetadata": {
     "0": {
      "height": 353,
      "type": "stream"
     }
    }
   },
   "outputs": [
    {
     "name": "stdout",
     "output_type": "stream",
     "text": [
      "<class 'pandas.core.frame.DataFrame'>\n",
      "RangeIndex: 2000 entries, 0 to 1999\n",
      "Data columns (total 8 columns):\n",
      " #   Column           Non-Null Count  Dtype  \n",
      "---  ------           --------------  -----  \n",
      " 0   bike_type        2000 non-null   object \n",
      " 1   frame_material   2000 non-null   object \n",
      " 2   production_cost  2000 non-null   float64\n",
      " 3   assembly_time    2000 non-null   float64\n",
      " 4   top_speed        1940 non-null   float64\n",
      " 5   battery_type     2000 non-null   object \n",
      " 6   motor_power      2000 non-null   object \n",
      " 7   customer_score   2000 non-null   float64\n",
      "dtypes: float64(4), object(4)\n",
      "memory usage: 125.1+ KB\n",
      "None\n"
     ]
    }
   ],
   "source": [
    "print(df.info())\n"
   ]
  },
  {
   "cell_type": "code",
   "execution_count": 13,
   "id": "86f01d2f-65f9-445f-9c41-ae7412dbf0de",
   "metadata": {
    "executionCancelledAt": null,
    "executionTime": null,
    "lastExecutedAt": null,
    "lastExecutedByKernel": null,
    "lastScheduledRunId": null,
    "lastSuccessfullyExecutedCode": null,
    "outputsMetadata": {
     "0": {
      "height": 206,
      "type": "stream"
     }
    }
   },
   "outputs": [
    {
     "name": "stdout",
     "output_type": "stream",
     "text": [
      "       production_cost  assembly_time    top_speed  customer_score\n",
      "count      2000.000000    2000.000000  1940.000000     2000.000000\n",
      "mean        500.000000      60.543275    24.997191        6.510145\n",
      "std         173.335091      15.197952     5.091021        1.631246\n",
      "min         200.000000      20.000000    10.000000        1.360000\n",
      "25%         350.002500      50.512500    21.497500        5.387500\n",
      "50%         500.000000      60.010000    24.905000        6.515000\n",
      "75%         649.997500      70.542500    28.462500        7.652500\n",
      "max         800.000000     114.660000    45.640000       11.550000\n"
     ]
    }
   ],
   "source": [
    "print(df.describe())\n"
   ]
  },
  {
   "cell_type": "code",
   "execution_count": 14,
   "id": "ab256dfb-3ecc-4710-b8db-43796d7c0a82",
   "metadata": {
    "executionCancelledAt": null,
    "executionTime": null,
    "lastExecutedAt": null,
    "lastExecutedByKernel": null,
    "lastScheduledRunId": null,
    "lastSuccessfullyExecutedCode": null,
    "outputsMetadata": {
     "0": {
      "height": 206,
      "type": "stream"
     }
    }
   },
   "outputs": [
    {
     "name": "stdout",
     "output_type": "stream",
     "text": [
      "bike_type           0\n",
      "frame_material      0\n",
      "production_cost     0\n",
      "assembly_time       0\n",
      "top_speed          60\n",
      "battery_type        0\n",
      "motor_power         0\n",
      "customer_score      0\n",
      "dtype: int64\n"
     ]
    }
   ],
   "source": [
    "print(df.isnull().sum())\n"
   ]
  },
  {
   "cell_type": "code",
   "execution_count": 15,
   "id": "a636f441-40c5-4a8a-b934-0159c8a883fb",
   "metadata": {
    "executionCancelledAt": null,
    "executionTime": 52,
    "lastExecutedAt": 1746520348544,
    "lastExecutedByKernel": "a835036f-4a66-4cc4-8fc4-cedd2b6d22c5",
    "lastScheduledRunId": null,
    "lastSuccessfullyExecutedCode": "for col in df.select_dtypes(include='object').columns:\n    print(f\"\\nUnique values in {col}:\")\n    print(df[col].unique())",
    "outputsMetadata": {
     "0": {
      "height": 616,
      "type": "stream"
     }
    }
   },
   "outputs": [
    {
     "name": "stdout",
     "output_type": "stream",
     "text": [
      "\n",
      "Unique values in bike_type:\n",
      "['road' 'mountain' 'folding' 'standard']\n",
      "\n",
      "Unique values in frame_material:\n",
      "['aluminum' 'STEel' 'steel' 'carbon fiber']\n",
      "\n",
      "Unique values in battery_type:\n",
      "['lead acid' 'nimh' 'li-ion' '-']\n",
      "\n",
      "Unique values in motor_power:\n",
      "['317W' '230W' '300W' '369W' '282W' '269W' '264W' '238W' '271W' '227W'\n",
      " '207W' '231W' '309W' '270W' '245W' '183W' '293W' '285W' '281W' '268W'\n",
      " '318W' '225W' '303W' '312W' '210W' '302W' '222W' '384W' '239W' '305W'\n",
      " '284W' '345W' '220W' '256W' '202W' '188W' '366W' '218W' '257W' '241W'\n",
      " '314W' '192W' '349W' '265W' '173W' '330W' '346W' '235W' '276W' '234W'\n",
      " '327W' '311W' '306W' '180W' '217W' '242W' '177W' '157W' '206W' '260W'\n",
      " '267W' '172W' '187W' '191W' '244W' '322W' '287W' '201W' '272W' '195W'\n",
      " '215W' '224W' '198W' '169W' '291W' '296W' '315W' '168W' '196W' '166W'\n",
      " '298W' '213W' '237W' '249W' '184W' '325W' '331W' '290W' '275W' '185W'\n",
      " '170W' '255W' '229W' '221W' '186W' '258W' '286W' '251W' '261W' '273W'\n",
      " '324W' '214W' '250W' '328W' '176W' '319W' '382W' '243W' '262W' '292W'\n",
      " '223W' '254W' '181W' '100W' '370W' '307W' '274W' '248W' '200W' '174W'\n",
      " '246W' '277W' '247W' '294W' '304W' '219W' '321W' '266W' '283W' '295W'\n",
      " '204W' '301W' '240W' '132W' '233W' '379W' '320W' '367W' '226W' '178W'\n",
      " '252W' '289W' '259W' '205W' '209W' '208W' '263W' '236W' '146W' '216W'\n",
      " '189W' '342W' '253W' '279W' '353W' '332W' '288W' '193W' '171W' '280W'\n",
      " '232W' '352W' '313W' '160W' '148W' '299W' '153W' '131W' '142W' '228W'\n",
      " '340W' '199W' '203W' '197W' '211W' '182W' '351W' '212W' '140W' '156W'\n",
      " '161W' '337W' '297W' '278W' '350W' '409W' '194W' '165W' '155W' '190W'\n",
      " '374W' '167W' '154W' '310W' '354W' '362W' '339W' '344W' '135W' '136W'\n",
      " '359W' '175W' '390W' '138W' '163W' '329W' '377W' '159W' '134W' '355W'\n",
      " '347W' '108W' '335W' '144W' '120W' '334W' '338W' '365W' '316W' '341W'\n",
      " '151W' '375W' '308W' '141W' '147W' '179W' '113W' '158W' '150W' '164W'\n",
      " '348W' '333W' '336W' '356W' '149W' '110W' '360W' '127W' '364W' '125W'\n",
      " '117W' '109W' '381W' '137W' '133W' '128W' '326W' '139W' '118W' '123W'\n",
      " '358W' '323W' '343W' '162W']\n"
     ]
    }
   ],
   "source": [
    "for col in df.select_dtypes(include='object').columns:\n",
    "    print(f\"\\nUnique values in {col}:\")\n",
    "    print(df[col].unique())"
   ]
  },
  {
   "cell_type": "code",
   "execution_count": null,
   "id": "5ce18b54-29af-4beb-bc8c-79c4e21bcd52",
   "metadata": {
    "executionCancelledAt": null,
    "executionTime": 53,
    "lastExecutedAt": 1746520348597,
    "lastExecutedByKernel": "a835036f-4a66-4cc4-8fc4-cedd2b6d22c5",
    "lastScheduledRunId": null,
    "lastSuccessfullyExecutedCode": "#Task 1\n\n\nimport pandas as pd\nimport numpy as np\n\n# Load the dataset\ndf = pd.read_csv('ebike_data.csv')\n\n# Create a cleaned version of the dataframe\nclean_data = df.copy()\n\n# Clean 'bike_type': Fill NaN with 'standard' and lowercase\nclean_data['bike_type'].fillna('standard', inplace=True)\nclean_data['bike_type'] = clean_data['bike_type'].str.lower()\nvalid_bike_types = ['standard', 'folding', 'mountain', 'road']\nclean_data['bike_type'] = clean_data['bike_type'].apply(lambda x: x if x in valid_bike_types else 'standard')\n\n# Clean 'frame_material': Fill NaN with 'unknown' and lowercase\nclean_data['frame_material'].fillna('unknown', inplace=True)\nclean_data['frame_material'] = clean_data['frame_material'].str.lower()\nvalid_frame_materials = ['aluminum', 'steel', 'carbon fiber']\nclean_data['frame_material'] = clean_data['frame_material'].apply(lambda x: x if x in valid_frame_materials else 'unknown')\n\n# Clean 'production_cost': Fill NaN with median\nmedian_production_cost = clean_data['production_cost'].median()\nclean_data['production_cost'].fillna(median_production_cost, inplace=True)\n\n# Clean 'assembly_time': Fill NaN with mean and round to 2 decimal places\nmean_assembly_time = clean_data['assembly_time'].mean()\nclean_data['assembly_time'].fillna(mean_assembly_time, inplace=True)\nclean_data['assembly_time'] = clean_data['assembly_time'].round(2)\n\n# Clean 'top_speed': Fill NaN with mean and round to 2 decimal places\nmean_top_speed = clean_data['top_speed'].mean()\nclean_data['top_speed'].fillna(mean_top_speed, inplace=True)\nclean_data['top_speed'] = clean_data['top_speed'].round(2)\n\n# Clean 'battery_type': Fill NaN with 'other', lowercase, and handle '-'\nclean_data['battery_type'].fillna('other', inplace=True)\nclean_data['battery_type'] = clean_data['battery_type'].str.lower()\nclean_data['battery_type'] = clean_data['battery_type'].replace('-', 'other')\nvalid_battery_types = ['li-ion', 'nimh', 'lead acid', 'other']\nclean_data['battery_type'] = clean_data['battery_type'].apply(lambda x: x if x in valid_battery_types else 'other')\n\n# Clean 'motor_power': Remove 'W', convert to numeric, and fill NaN with median\nclean_data['motor_power'] = clean_data['motor_power'].str.replace('W', '', regex=False).astype(float)\nmedian_motor_power = clean_data['motor_power'].median()\nclean_data['motor_power'].fillna(median_motor_power, inplace=True)\n\n# Clean 'customer_score': Fill NaN with mean and round to 2 decimal places\nmean_customer_score = clean_data['customer_score'].mean()\nclean_data['customer_score'].fillna(mean_customer_score, inplace=True)\nclean_data['customer_score'] = clean_data['customer_score'].round(2)\n\n# Display the first few rows of the cleaned dataframe\nprint(\"First few rows of the cleaned dataframe (clean_data):\")\nprint(clean_data.head())\n\n# Verify that there are no missing values in the cleaned dataframe\nprint(\"\\nNumber of missing values in the cleaned dataframe:\")\nprint(clean_data.isnull().sum())",
    "outputsMetadata": {
     "0": {
      "height": 437,
      "type": "stream"
     }
    }
   },
   "outputs": [
    {
     "name": "stdout",
     "output_type": "stream",
     "text": [
      "First few rows of the cleaned dataframe (clean_data):\n",
      "  bike_type frame_material  ...  motor_power  customer_score\n",
      "0      road       aluminum  ...        317.0            3.01\n",
      "1      road          steel  ...        230.0            6.67\n",
      "2      road          steel  ...        300.0            7.29\n",
      "3  mountain          steel  ...        369.0            9.35\n",
      "4      road   carbon fiber  ...        282.0            7.81\n",
      "\n",
      "[5 rows x 8 columns]\n",
      "\n",
      "Number of missing values in the cleaned dataframe:\n",
      "bike_type          0\n",
      "frame_material     0\n",
      "production_cost    0\n",
      "assembly_time      0\n",
      "top_speed          0\n",
      "battery_type       0\n",
      "motor_power        0\n",
      "customer_score     0\n",
      "dtype: int64\n"
     ]
    }
   ],
   "source": [
    "\n",
    "# Load the dataset\n",
    "df = pd.read_csv('ebike_data.csv')\n",
    "\n",
    "# Create a cleaned version of the dataframe\n",
    "clean_data = df.copy()\n",
    "\n",
    "# Clean 'bike_type': Fill NaN with 'standard' and lowercase\n",
    "clean_data['bike_type'].fillna('standard', inplace=True)\n",
    "clean_data['bike_type'] = clean_data['bike_type'].str.lower()\n",
    "valid_bike_types = ['standard', 'folding', 'mountain', 'road']\n",
    "clean_data['bike_type'] = clean_data['bike_type'].apply(lambda x: x if x in valid_bike_types else 'standard')\n",
    "\n",
    "# Clean 'frame_material': Fill NaN with 'unknown' and lowercase\n",
    "clean_data['frame_material'].fillna('unknown', inplace=True)\n",
    "clean_data['frame_material'] = clean_data['frame_material'].str.lower()\n",
    "valid_frame_materials = ['aluminum', 'steel', 'carbon fiber']\n",
    "clean_data['frame_material'] = clean_data['frame_material'].apply(lambda x: x if x in valid_frame_materials else 'unknown')\n",
    "\n",
    "# Clean 'production_cost': Fill NaN with median\n",
    "median_production_cost = clean_data['production_cost'].median()\n",
    "clean_data['production_cost'].fillna(median_production_cost, inplace=True)\n",
    "\n",
    "# Clean 'assembly_time': Fill NaN with mean and round to 2 decimal places\n",
    "mean_assembly_time = clean_data['assembly_time'].mean()\n",
    "clean_data['assembly_time'].fillna(mean_assembly_time, inplace=True)\n",
    "clean_data['assembly_time'] = clean_data['assembly_time'].round(2)\n",
    "\n",
    "# Clean 'top_speed': Fill NaN with mean and round to 2 decimal places\n",
    "mean_top_speed = clean_data['top_speed'].mean()\n",
    "clean_data['top_speed'].fillna(mean_top_speed, inplace=True)\n",
    "clean_data['top_speed'] = clean_data['top_speed'].round(2)\n",
    "\n",
    "# Clean 'battery_type': Fill NaN with 'other', lowercase, and handle '-'\n",
    "clean_data['battery_type'].fillna('other', inplace=True)\n",
    "clean_data['battery_type'] = clean_data['battery_type'].str.lower()\n",
    "clean_data['battery_type'] = clean_data['battery_type'].replace('-', 'other')\n",
    "valid_battery_types = ['li-ion', 'nimh', 'lead acid', 'other']\n",
    "clean_data['battery_type'] = clean_data['battery_type'].apply(lambda x: x if x in valid_battery_types else 'other')\n",
    "\n",
    "# Clean 'motor_power': Remove 'W', convert to numeric, and fill NaN with median\n",
    "clean_data['motor_power'] = clean_data['motor_power'].str.replace('W', '', regex=False).astype(float)\n",
    "median_motor_power = clean_data['motor_power'].median()\n",
    "clean_data['motor_power'].fillna(median_motor_power, inplace=True)\n",
    "\n",
    "# Clean 'customer_score': Fill NaN with mean and round to 2 decimal places\n",
    "mean_customer_score = clean_data['customer_score'].mean()\n",
    "clean_data['customer_score'].fillna(mean_customer_score, inplace=True)\n",
    "clean_data['customer_score'] = clean_data['customer_score'].round(2)\n",
    "\n",
    "# Display the first few rows of the cleaned dataframe\n",
    "print(\"First few rows of the cleaned dataframe (clean_data):\")\n",
    "print(clean_data.head())\n",
    "\n",
    "# Verify that there are no missing values in the cleaned dataframe\n",
    "print(\"\\nNumber of missing values in the cleaned dataframe:\")\n",
    "print(clean_data.isnull().sum())"
   ]
  },
  {
   "cell_type": "markdown",
   "id": "026b3c30-d3b0-4762-ae10-0f2880873bdc",
   "metadata": {},
   "source": [
    "# Task 2\n",
    "\n",
    "You want to understand how different types of e-bikes influence production costs, assembly times, and customer satisfaction.\n",
    "\n",
    "Calculate the average production_cost, assembly_time, and customer_score grouped by bike_type.\n",
    "\n",
    "- You should start with the data in the file `ebike_data.csv`.\n",
    "- Your output should be a data frame named `bike_type_data`.\n",
    "- It should include the four columns:`bike_type`, `avg_production_cost`, `avg_assembly_time`, and `avg_customer_score`.\n",
    "- Your answers should be rounded to 2 decimal places."
   ]
  },
  {
   "cell_type": "code",
   "execution_count": null,
   "id": "6d47e440-c4ab-45cf-af40-53181764bac4",
   "metadata": {
    "executionCancelledAt": null,
    "executionTime": 48,
    "lastExecutedAt": 1746520348645,
    "lastExecutedByKernel": "a835036f-4a66-4cc4-8fc4-cedd2b6d22c5",
    "lastScheduledRunId": null,
    "lastSuccessfullyExecutedCode": "# Task 2\n\nimport pandas as pd\n\n# Load the dataset\ndf = pd.read_csv('ebike_data.csv')\n\n# Calculate the average production_cost, assembly_time, and customer_score grouped by bike_type\nbike_type_data = df.groupby('bike_type').agg(\n    avg_production_cost=('production_cost', 'mean'),\n    avg_assembly_time=('assembly_time', 'mean'),\n    avg_customer_score=('customer_score', 'mean')\n).reset_index()\n\n# Round the results to 2 decimal places\nbike_type_data['avg_production_cost'] = bike_type_data['avg_production_cost'].round(2)\nbike_type_data['avg_assembly_time'] = bike_type_data['avg_assembly_time'].round(2)\nbike_type_data['avg_customer_score'] = bike_type_data['avg_customer_score'].round(2)\n\nprint(bike_type_data)",
    "outputsMetadata": {
     "0": {
      "height": 122,
      "type": "stream"
     }
    }
   },
   "outputs": [
    {
     "name": "stdout",
     "output_type": "stream",
     "text": [
      "  bike_type  avg_production_cost  avg_assembly_time  avg_customer_score\n",
      "0   folding               499.72              61.40                6.46\n",
      "1  mountain               507.02              59.79                6.52\n",
      "2      road               503.02              61.19                6.56\n",
      "3  standard               489.85              59.81                6.50\n"
     ]
    }
   ],
   "source": [
    "\n",
    "# Load the dataset\n",
    "df = pd.read_csv('ebike_data.csv')\n",
    "\n",
    "# Calculate the average production_cost, assembly_time, and customer_score grouped by bike_type\n",
    "bike_type_data = df.groupby('bike_type').agg(\n",
    "    avg_production_cost=('production_cost', 'mean'),\n",
    "    avg_assembly_time=('assembly_time', 'mean'),\n",
    "    avg_customer_score=('customer_score', 'mean')\n",
    ").reset_index()\n",
    "\n",
    "# Round the results to 2 decimal places\n",
    "bike_type_data['avg_production_cost'] = bike_type_data['avg_production_cost'].round(2)\n",
    "bike_type_data['avg_assembly_time'] = bike_type_data['avg_assembly_time'].round(2)\n",
    "bike_type_data['avg_customer_score'] = bike_type_data['avg_customer_score'].round(2)\n",
    "\n",
    "print(bike_type_data)"
   ]
  },
  {
   "cell_type": "markdown",
   "id": "42718e48-205a-48ab-8ddc-a93857b71726",
   "metadata": {},
   "source": [
    "# Task 3\n",
    "\n",
    "In order to proceed with further analysis, you need to understand how key production and satisfaction factors relate to each other. Start by calculating the mean and standard deviation for the following columns: `production_cost` and `customer_score`. These statistics will help in understanding the central tendency and variability of the data related to e-bike production and customer feedback.\n",
    "\n",
    "Next, calculate the Pearson correlation coefficient between `production_cost` and `customer_score`. This correlation coefficient will provide insights into the strength and direction of the relationship between production costs and customer satisfaction.\n",
    "\n",
    "- You should start with the data in the file `ebike_data.csv`.\n",
    "- Calculate the mean and standard deviation for the columns `production_cost` and `customer_score` as: `production_cost_mean`, `production_cost_sd`, `customer_score_mean`, and `customer_score_sd`.\n",
    "- Calculate the Pearson correlation coefficient between `production_cost` and `customer_score` as `corr_coef`.\n",
    "- Your output should be a data frame named bike_analysis.\n",
    "- It should include the columns: `production_cost_mean`, `production_cost_sd`, `customer_score_mean`, `customer_score_sd`, and `corr_coef`.\n",
    "- Ensure that your answers are rounded to 2 decimal places.\n"
   ]
  },
  {
   "cell_type": "code",
   "execution_count": null,
   "id": "eb9b11fd-07d5-4a39-b2fa-afaa69285e3b",
   "metadata": {
    "executionCancelledAt": null,
    "executionTime": 47,
    "lastExecutedAt": 1746520348694,
    "lastExecutedByKernel": "a835036f-4a66-4cc4-8fc4-cedd2b6d22c5",
    "lastScheduledRunId": null,
    "lastSuccessfullyExecutedCode": "# Task 3\n\nimport pandas as pd\n\n# Load the dataset\ndf = pd.read_csv('ebike_data.csv')\n\n# Calculate the mean and standard deviation for production_cost and customer_score\nproduction_cost_mean = df['production_cost'].mean().round(2)\nproduction_cost_sd = df['production_cost'].std().round(2)\ncustomer_score_mean = df['customer_score'].mean().round(2)\ncustomer_score_sd = df['customer_score'].std().round(2)\n\n# Calculate the Pearson correlation coefficient between production_cost and customer_score\ncorr_coef = df['production_cost'].corr(df['customer_score'], method='pearson').round(2)\n\n# Create the bike_analysis dataframe\nbike_analysis = pd.DataFrame({\n    'production_cost_mean': [production_cost_mean],\n    'production_cost_sd': [production_cost_sd],\n    'customer_score_mean': [customer_score_mean],\n    'customer_score_sd': [customer_score_sd],\n    'corr_coef': [corr_coef]\n})\n\nprint(bike_analysis)",
    "outputsMetadata": {
     "0": {
      "height": 101,
      "type": "stream"
     }
    }
   },
   "outputs": [
    {
     "name": "stdout",
     "output_type": "stream",
     "text": [
      "   production_cost_mean  production_cost_sd  ...  customer_score_sd  corr_coef\n",
      "0                 500.0              173.34  ...               1.63       0.48\n",
      "\n",
      "[1 rows x 5 columns]\n"
     ]
    }
   ],
   "source": [
    "\n",
    "\n",
    "# Load the dataset\n",
    "df = pd.read_csv('ebike_data.csv')\n",
    "\n",
    "# Calculate the mean and standard deviation for production_cost and customer_score\n",
    "production_cost_mean = df['production_cost'].mean().round(2)\n",
    "production_cost_sd = df['production_cost'].std().round(2)\n",
    "customer_score_mean = df['customer_score'].mean().round(2)\n",
    "customer_score_sd = df['customer_score'].std().round(2)\n",
    "\n",
    "# Calculate the Pearson correlation coefficient between production_cost and customer_score\n",
    "corr_coef = df['production_cost'].corr(df['customer_score'], method='pearson').round(2)\n",
    "\n",
    "# Create the bike_analysis dataframe\n",
    "bike_analysis = pd.DataFrame({\n",
    "    'production_cost_mean': [production_cost_mean],\n",
    "    'production_cost_sd': [production_cost_sd],\n",
    "    'customer_score_mean': [customer_score_mean],\n",
    "    'customer_score_sd': [customer_score_sd],\n",
    "    'corr_coef': [corr_coef]\n",
    "})\n",
    "\n",
    "print(bike_analysis)"
   ]
  }
 ],
 "metadata": {
  "colab": {
   "name": "Welcome to DataCamp Workspaces.ipynb",
   "provenance": []
  },
  "editor": "DataLab",
  "kernelspec": {
   "display_name": "Python 3 (ipykernel)",
   "language": "python",
   "name": "python3"
  },
  "language_info": {
   "codemirror_mode": {
    "name": "ipython",
    "version": 3
   },
   "file_extension": ".py",
   "mimetype": "text/x-python",
   "name": "python",
   "nbconvert_exporter": "python",
   "pygments_lexer": "ipython3",
   "version": "3.8.10"
  }
 },
 "nbformat": 4,
 "nbformat_minor": 5
}

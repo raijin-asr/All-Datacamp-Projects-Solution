{
 "cells": [
  {
   "cell_type": "markdown",
   "id": "fe0ea788-58dd-459e-8976-fafdb5c05c6d",
   "metadata": {},
   "source": [
    "![New York City schoolbus](schoolbus.jpg)\n",
    "\n",
    "Photo by [Jannis Lucas](https://unsplash.com/@jannis_lucas) on [Unsplash](https://unsplash.com).\n",
    "<br>\n",
    "\n",
    "Every year, American high school students take SATs, which are standardized tests intended to measure literacy, numeracy, and writing skills. There are three sections - reading, math, and writing, each with a **maximum score of 800 points**. These tests are extremely important for students and colleges, as they play a pivotal role in the admissions process.\n",
    "\n",
    "Analyzing the performance of schools is important for a variety of stakeholders, including policy and education professionals, researchers, government, and even parents considering which school their children should attend. \n",
    "\n",
    "You have been provided with a dataset called `schools.csv`, which is previewed below.\n",
    "\n",
    "You have been tasked with answering three key questions about New York City (NYC) public school SAT performance."
   ]
  },
  {
   "cell_type": "code",
   "execution_count": 5,
   "id": "d0eb4f16-5a99-460d-a5ba-706b7ef0bbe7",
   "metadata": {
    "executionCancelledAt": null,
    "executionTime": 30,
    "id": "bA5ajAmk7XH6",
    "lastExecutedAt": 1747734257303,
    "lastExecutedByKernel": "f37b28d9-b797-4c7c-b056-a298240b9aec",
    "lastScheduledRunId": null,
    "lastSuccessfullyExecutedCode": "# Re-run this cell \nimport pandas as pd\n\n# Read in the data\nschools_df= pd.read_csv(\"schools.csv\")\n\n# Preview the data\nschools_df.head()\n",
    "outputsMetadata": {
     "0": {
      "height": 550,
      "tableState": {
       "customFilter": {
        "const": {
         "type": "boolean",
         "valid": true,
         "value": true
        },
        "id": "ff652263-c671-47c3-b9e9-62aa5f2d0a2d",
        "nodeType": "const"
       },
       "quickFilterText": ""
      },
      "type": "dataFrame"
     }
    }
   },
   "outputs": [
    {
     "data": {
      "application/com.datacamp.data-table.v2+json": {
       "table": {
        "data": {
         "average_math": [
          657,
          395,
          418,
          613,
          410
         ],
         "average_reading": [
          601,
          411,
          428,
          453,
          406
         ],
         "average_writing": [
          601,
          387,
          415,
          463,
          381
         ],
         "borough": [
          "Manhattan",
          "Manhattan",
          "Manhattan",
          "Manhattan",
          "Manhattan"
         ],
         "building_code": [
          "M022",
          "M445",
          "M445",
          "M445",
          "M056"
         ],
         "index": [
          0,
          1,
          2,
          3,
          4
         ],
         "percent_tested": [
          null,
          78.9,
          65.1,
          95.9,
          59.7
         ],
         "school_name": [
          "New Explorations into Science, Technology and Math High School",
          "Essex Street Academy",
          "Lower Manhattan Arts Academy",
          "High School for Dual Language and Asian Studies",
          "Henry Street School for International Studies"
         ]
        },
        "schema": {
         "fields": [
          {
           "name": "index",
           "type": "integer"
          },
          {
           "name": "school_name",
           "type": "string"
          },
          {
           "name": "borough",
           "type": "string"
          },
          {
           "name": "building_code",
           "type": "string"
          },
          {
           "name": "average_math",
           "type": "integer"
          },
          {
           "name": "average_reading",
           "type": "integer"
          },
          {
           "name": "average_writing",
           "type": "integer"
          },
          {
           "name": "percent_tested",
           "type": "number"
          }
         ],
         "pandas_version": "1.4.0",
         "primaryKey": [
          "index"
         ]
        }
       },
       "total_rows": 5,
       "truncation_type": null
      },
      "text/html": [
       "<div>\n",
       "<style scoped>\n",
       "    .dataframe tbody tr th:only-of-type {\n",
       "        vertical-align: middle;\n",
       "    }\n",
       "\n",
       "    .dataframe tbody tr th {\n",
       "        vertical-align: top;\n",
       "    }\n",
       "\n",
       "    .dataframe thead th {\n",
       "        text-align: right;\n",
       "    }\n",
       "</style>\n",
       "<table border=\"1\" class=\"dataframe\">\n",
       "  <thead>\n",
       "    <tr style=\"text-align: right;\">\n",
       "      <th></th>\n",
       "      <th>school_name</th>\n",
       "      <th>borough</th>\n",
       "      <th>building_code</th>\n",
       "      <th>average_math</th>\n",
       "      <th>average_reading</th>\n",
       "      <th>average_writing</th>\n",
       "      <th>percent_tested</th>\n",
       "    </tr>\n",
       "  </thead>\n",
       "  <tbody>\n",
       "    <tr>\n",
       "      <th>0</th>\n",
       "      <td>New Explorations into Science, Technology and ...</td>\n",
       "      <td>Manhattan</td>\n",
       "      <td>M022</td>\n",
       "      <td>657</td>\n",
       "      <td>601</td>\n",
       "      <td>601</td>\n",
       "      <td>NaN</td>\n",
       "    </tr>\n",
       "    <tr>\n",
       "      <th>1</th>\n",
       "      <td>Essex Street Academy</td>\n",
       "      <td>Manhattan</td>\n",
       "      <td>M445</td>\n",
       "      <td>395</td>\n",
       "      <td>411</td>\n",
       "      <td>387</td>\n",
       "      <td>78.9</td>\n",
       "    </tr>\n",
       "    <tr>\n",
       "      <th>2</th>\n",
       "      <td>Lower Manhattan Arts Academy</td>\n",
       "      <td>Manhattan</td>\n",
       "      <td>M445</td>\n",
       "      <td>418</td>\n",
       "      <td>428</td>\n",
       "      <td>415</td>\n",
       "      <td>65.1</td>\n",
       "    </tr>\n",
       "    <tr>\n",
       "      <th>3</th>\n",
       "      <td>High School for Dual Language and Asian Studies</td>\n",
       "      <td>Manhattan</td>\n",
       "      <td>M445</td>\n",
       "      <td>613</td>\n",
       "      <td>453</td>\n",
       "      <td>463</td>\n",
       "      <td>95.9</td>\n",
       "    </tr>\n",
       "    <tr>\n",
       "      <th>4</th>\n",
       "      <td>Henry Street School for International Studies</td>\n",
       "      <td>Manhattan</td>\n",
       "      <td>M056</td>\n",
       "      <td>410</td>\n",
       "      <td>406</td>\n",
       "      <td>381</td>\n",
       "      <td>59.7</td>\n",
       "    </tr>\n",
       "  </tbody>\n",
       "</table>\n",
       "</div>"
      ],
      "text/plain": [
       "                                         school_name  ... percent_tested\n",
       "0  New Explorations into Science, Technology and ...  ...            NaN\n",
       "1                               Essex Street Academy  ...           78.9\n",
       "2                       Lower Manhattan Arts Academy  ...           65.1\n",
       "3    High School for Dual Language and Asian Studies  ...           95.9\n",
       "4      Henry Street School for International Studies  ...           59.7\n",
       "\n",
       "[5 rows x 7 columns]"
      ]
     },
     "execution_count": 5,
     "metadata": {
      "application/com.datacamp.data-table.v2+json": {
       "status": "success"
      }
     },
     "output_type": "execute_result"
    }
   ],
   "source": [
    "# Re-run this cell \n",
    "import pandas as pd\n",
    "\n",
    "# Read in the data\n",
    "schools_df= pd.read_csv(\"schools.csv\")\n",
    "\n",
    "# Preview the data\n",
    "schools_df.head()\n"
   ]
  },
  {
   "cell_type": "code",
   "execution_count": null,
   "id": "0c21d220-a955-44be-8ea8-c4863a8c0c0a",
   "metadata": {
    "executionCancelledAt": null,
    "executionTime": 17,
    "lastExecutedAt": 1747734263853,
    "lastExecutedByKernel": "f37b28d9-b797-4c7c-b056-a298240b9aec",
    "lastScheduledRunId": null,
    "lastSuccessfullyExecutedCode": "# 1. Finding schools with the best math scores\n# The best math results are at least 80% of the maximum possible score of 800 for math.\nmath_threshold = 0.80 * 800\nbest_math_schools = schools_df[schools_df[\"average_math\"] >= math_threshold][\n    [\"school_name\", \"average_math\"]\n].sort_values(by=\"average_math\", ascending=False)\n\nprint(\"Schools with the best math results:\")\nprint(best_math_schools.head()) # Showing head for brevity"
   },
   "outputs": [
    {
     "name": "stdout",
     "output_type": "stream",
     "text": [
      "Schools with the best math results:\n",
      "                                           school_name  average_math\n",
      "88                              Stuyvesant High School           754\n",
      "170                       Bronx High School of Science           714\n",
      "93                 Staten Island Technical High School           711\n",
      "365  Queens High School for the Sciences at York Co...           701\n",
      "68   High School for Mathematics, Science, and Engi...           683\n"
     ]
    }
   ],
   "source": [
    "# 1. Finding schools with the best math scores\n",
    "\n",
    "# The best math results are at least 80% of the maximum possible score of 800 for math.\n",
    "math_threshold = 0.80 * 800\n",
    "best_math_schools = schools_df[schools_df[\"average_math\"] >= math_threshold][\n",
    "    [\"school_name\", \"average_math\"]\n",
    "].sort_values(by=\"average_math\", ascending=False)\n",
    "\n",
    "print(\"Schools with the best math results:\")\n",
    "print(best_math_schools.head()) "
   ]
  },
  {
   "cell_type": "code",
   "execution_count": null,
   "id": "9ea08a4d-8289-4a45-8ecc-c774c22d6d4b",
   "metadata": {
    "executionCancelledAt": null,
    "executionTime": 18,
    "lastExecutedAt": 1747734270835,
    "lastExecutedByKernel": "f37b28d9-b797-4c7c-b056-a298240b9aec",
    "lastScheduledRunId": null,
    "lastSuccessfullyExecutedCode": "# 2. Identifying the top 10 performing schools based on combined SAT scores\n# Add a new column named \"total_SAT\"\nschools_df[\"total_SAT\"] = schools_df[\"average_math\"] + schools_df[\"average_reading\"] + schools_df[\"average_writing\"]\n\n# Sort by \"total_SAT\" in descending order and get the top 10\ntop_10_schools = schools_df.sort_values(by=\"total_SAT\", ascending=False)[\n    [\"school_name\", \"total_SAT\"]\n].head(10)\n\nprint(\"\\nTop 10 performing schools based on combined SAT scores:\")\nprint(top_10_schools)"
   },
   "outputs": [
    {
     "name": "stdout",
     "output_type": "stream",
     "text": [
      "\n",
      "Top 10 performing schools based on combined SAT scores:\n",
      "                                           school_name  total_SAT\n",
      "88                              Stuyvesant High School       2144\n",
      "170                       Bronx High School of Science       2041\n",
      "93                 Staten Island Technical High School       2041\n",
      "174  High School of American Studies at Lehman College       2013\n",
      "333                        Townsend Harris High School       1981\n",
      "365  Queens High School for the Sciences at York Co...       1947\n",
      "5                       Bard High School Early College       1914\n",
      "280                     Brooklyn Technical High School       1896\n",
      "45                       Eleanor Roosevelt High School       1889\n",
      "68   High School for Mathematics, Science, and Engi...       1889\n"
     ]
    }
   ],
   "source": [
    "# 2. Identifying the top 10 performing schools based on combined SAT scores\n",
    "\n",
    "# Add a new column named \"total_SAT\"\n",
    "schools_df[\"total_SAT\"] = schools_df[\"average_math\"] + schools_df[\"average_reading\"] + schools_df[\"average_writing\"]\n",
    "\n",
    "# Sort by \"total_SAT\" in descending order and get the top 10\n",
    "top_10_schools = schools_df.sort_values(by=\"total_SAT\", ascending=False)[\n",
    "    [\"school_name\", \"total_SAT\"]\n",
    "].head(10)\n",
    "\n",
    "print(\"\\nTop 10 performing schools based on combined SAT scores:\")\n",
    "print(top_10_schools)"
   ]
  },
  {
   "cell_type": "code",
   "execution_count": null,
   "id": "7b2220c2-23c3-4d00-ada3-f0054bf78b55",
   "metadata": {
    "executionCancelledAt": null,
    "executionTime": 21,
    "lastExecutedAt": 1747734273674,
    "lastExecutedByKernel": "f37b28d9-b797-4c7c-b056-a298240b9aec",
    "lastScheduledRunId": null,
    "lastSuccessfullyExecutedCode": "# 3. Locating the NYC borough with the largest standard deviation in SAT performance\n# Group by borough and calculate count, mean, and standard deviation of \"total_SAT\"\nborough_stats = schools_df.groupby(\"borough\")[\"total_SAT\"].agg(\n    num_schools=\"count\",\n    average_SAT=\"mean\",\n    std_SAT=\"std\"\n).round(2)\n\n# Find the borough with the largest standard deviation\nlargest_std_dev = borough_stats[borough_stats[\"std_SAT\"] == borough_stats[\"std_SAT\"].max()]\n\n# Ensure the DataFrame has the correct column names as per instructions\nlargest_std_dev = largest_std_dev.rename(\n    columns={\"num_schools\": \"num_schools\", \"average_SAT\": \"average_SAT\", \"std_SAT\": \"std_SAT\"}\n)\n\nprint(\"\\nBorough with the largest standard deviation in combined SAT score:\")\nprint(largest_std_dev)"
   },
   "outputs": [
    {
     "name": "stdout",
     "output_type": "stream",
     "text": [
      "\n",
      "Borough with the largest standard deviation in combined SAT score:\n",
      "           num_schools  average_SAT  std_SAT\n",
      "borough                                     \n",
      "Manhattan           89      1340.13   230.29\n"
     ]
    }
   ],
   "source": [
    "# 3. Locating the NYC borough with the largest standard deviation in SAT performance\n",
    "\n",
    "# Group by borough and calculate count, mean, and standard deviation of \"total_SAT\"\n",
    "borough_stats = schools_df.groupby(\"borough\")[\"total_SAT\"].agg(\n",
    "    num_schools=\"count\",\n",
    "    average_SAT=\"mean\",\n",
    "    std_SAT=\"std\"\n",
    ").round(2)\n",
    "\n",
    "# Find the borough with the largest standard deviation\n",
    "largest_std_dev = borough_stats[borough_stats[\"std_SAT\"] == borough_stats[\"std_SAT\"].max()]\n",
    "\n",
    "# Ensure the DataFrame has the correct column names as per instructions\n",
    "largest_std_dev = largest_std_dev.rename(\n",
    "    columns={\"num_schools\": \"num_schools\", \"average_SAT\": \"average_SAT\", \"std_SAT\": \"std_SAT\"}\n",
    ")\n",
    "\n",
    "print(\"\\nBorough with the largest standard deviation in combined SAT score:\")\n",
    "print(largest_std_dev)"
   ]
  }
 ],
 "metadata": {
  "editor": "DataLab",
  "kernelspec": {
   "display_name": "Python 3 (ipykernel)",
   "language": "python",
   "name": "python3"
  },
  "language_info": {
   "codemirror_mode": {
    "name": "ipython",
    "version": 3
   },
   "file_extension": ".py",
   "mimetype": "text/x-python",
   "name": "python",
   "nbconvert_exporter": "python",
   "pygments_lexer": "ipython3",
   "version": "3.8.10"
  }
 },
 "nbformat": 4,
 "nbformat_minor": 5
}

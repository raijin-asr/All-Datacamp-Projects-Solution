{
 "cells": [
  {
   "cell_type": "markdown",
   "metadata": {},
   "source": [
    "You recently quit your job to start a space logistics company that uses rockets to deliver critical cargo to colonies on demand. Since you're still in the startup phase, you're handling everything yourself, including writing the software to manage complex scheduling and timing across different space colonies.\n",
    "\n",
    "Before developing a full rocket flight planning and logistics system, you want to create core functions using Python's datetime module to handle dates, times, and durations. These basic functions are essential for your rocket delivery service. In this project, you will make simple reusable functions for working with timestamps, calculating rocket landing times based on launch and travel duration, and figuring out days until a delivery deadline to keep those customers updated!\n",
    "\n",
    "This project is data-less, but you can test your functions by calling them in the workspace and passing them the required variables."
   ]
  },
  {
   "cell_type": "code",
   "execution_count": null,
   "metadata": {},
   "outputs": [],
   "source": [
    "from datetime import datetime, timedelta"
   ]
  },
  {
   "cell_type": "code",
   "execution_count": null,
   "metadata": {},
   "outputs": [],
   "source": [
    "from datetime import datetime, timedelta\n",
    "\n",
    "def format_date(timestamp, datetime_format):\n",
    "    dt = datetime.fromtimestamp(timestamp)\n",
    "    str_dt = dt.strftime(datetime_format)\n",
    "    return str_dt\n",
    "\n",
    "def calculate_landing_time(rocket_launch_dt, travel_duration):\n",
    "    td = rocket_launch_dt\n",
    "    days = timedelta(days=travel_duration)\n",
    "    landing_date = td + days\n",
    "    return landing_date.strftime(\"%d-%m-%Y\")\n",
    "\n",
    "def days_until_delivery(expected_delivery_dt, current_dt):\n",
    "    days_del = expected_delivery_dt - current_dt\n",
    "    days_until = days_del.days\n",
    "    return days_until"
   ]
  },
  {
   "cell_type": "code",
   "execution_count": null,
   "metadata": {},
   "outputs": [],
   "source": [
    "# verifying first function\n",
    "print(format_date(1514665153, \"%d-%m-%Y\"))\n",
    "\n",
    "# verifying second function\n",
    "print(calculate_landing_time(datetime(2023, 2, 15), 20))\n",
    "\n",
    "#verifying third function\n",
    "print(days_until_delivery(datetime(2023, 2, 15), datetime(2023, 2, 5)))\n",
    "\n",
    "#Output:\n",
    "#30-12-2017\n",
    "#07-03-2023\n",
    "#10"
   ]
  }
 ],
 "metadata": {
  "language_info": {
   "name": "python"
  }
 },
 "nbformat": 4,
 "nbformat_minor": 2
}

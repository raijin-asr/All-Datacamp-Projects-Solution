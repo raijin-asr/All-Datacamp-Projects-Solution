{
 "cells": [
  {
   "cell_type": "markdown",
   "id": "17000260-fe07-4f92-abb4-3d325226eb1f",
   "metadata": {},
   "source": [
    "![eiffel-tower](images/eiffel-tower.png)\n",
    "\n",
    "As a distinguished AI Developer, you've been selected by Peterman Reality Tours, an internationally acclaimed tourism company, to undertake an influential project. This project requires you to harness the potential of OpenAI's API, to create an AI-powered travel guide for the culturally rich city of Paris.\n",
    "\n",
    "Your creation will become a virtual Parisian expert, delivering valuable insights into the city's iconic landmarks and hidden treasures. The AI will respond intelligently to a set of common questions, providing a more engaging and immersive travel planning experience for the clientele of Peterman Reality Tours.\n",
    "\n",
    "The ultimate aspiration is a user-friendly, AI-driven travel guide that significantly enhances the exploration of Paris. Users will be able to pre-define their questions and receive well-informed answers from the AI, providing a seamless and intuitive travel planning process."
   ]
  },
  {
   "cell_type": "code",
   "execution_count": null,
   "id": "af542964-72bd-404b-8689-0ddf2cec72b9",
   "metadata": {
    "executionCancelledAt": null,
    "executionTime": 15,
    "lastExecutedAt": 1752594065819,
    "lastExecutedByKernel": "b9882785-1860-43be-8531-015c4bb74e49",
    "lastScheduledRunId": null,
    "lastSuccessfullyExecutedCode": "# Start your code here!\nimport os\nfrom openai import OpenAI\n\n# Define the model to use\nmodel = \"gpt-4o-mini\"\n\n# Define the client\nclient = OpenAI()\n\n# Start coding here\n# Add as many cells as you like"
   },
   "outputs": [],
   "source": [
    "# Start your code here!\n",
    "import os\n",
    "from openai import OpenAI\n",
    "\n",
    "# Define the model to use\n",
    "model = \"gpt-4o-mini\"\n",
    "\n",
    "# Define the client\n",
    "client = OpenAI()\n"
   ]
  },
  {
   "cell_type": "code",
   "execution_count": 5,
   "id": "7988f169-83ba-4ca9-a1fa-5586ca4c5292",
   "metadata": {
    "executionCancelledAt": null,
    "executionTime": 47,
    "lastExecutedAt": 1752594065866,
    "lastExecutedByKernel": "b9882785-1860-43be-8531-015c4bb74e49",
    "lastScheduledRunId": null,
    "lastSuccessfullyExecutedCode": "# Define the initial conversation with a system message\nconversation = [\n    {\"role\": \"system\", \"content\": \"You are a helpful and knowledgeable AI travel guide for Paris. Provide concise and accurate information about Parisian landmarks and attractions.\"}\n]\n\n# Define the list of questions\nquestions = [\n    \"How far away is the Louvre from the Eiffel Tower (in miles) if you are driving?\",\n    \"Where is the Arc de Triomphe?\",\n    \"What are the must-see artworks at the Louvre Museum?\"\n]"
   },
   "outputs": [],
   "source": [
    "# Define the initial conversation with a system message\n",
    "conversation = [\n",
    "    {\"role\": \"system\", \"content\": \"You are a helpful and knowledgeable AI travel guide for Paris. Provide concise and accurate information about Parisian landmarks and attractions.\"}\n",
    "]\n",
    "\n",
    "# Define the list of questions\n",
    "questions = [\n",
    "    \"How far away is the Louvre from the Eiffel Tower (in miles) if you are driving?\",\n",
    "    \"Where is the Arc de Triomphe?\",\n",
    "    \"What are the must-see artworks at the Louvre Museum?\"\n",
    "]"
   ]
  },
  {
   "cell_type": "code",
   "execution_count": 3,
   "id": "1e126577-a874-4265-ad33-0970d8975099",
   "metadata": {
    "executionCancelledAt": null,
    "executionTime": null,
    "lastExecutedAt": null,
    "lastExecutedByKernel": null,
    "lastScheduledRunId": null,
    "lastSuccessfullyExecutedCode": null,
    "outputsMetadata": {
     "0": {
      "height": 416,
      "type": "stream"
     }
    }
   },
   "outputs": [],
   "source": [
    "# Create a conversation loop\n",
    "for question_text in questions:\n",
    "    # Add the user's question to the conversation\n",
    "    user_message = {\"role\": \"user\", \"content\": question_text}\n",
    "    conversation.append(user_message)\n",
    "\n",
    "    # Fetch a response from the model\n",
    "    response = client.chat.completions.create(\n",
    "        messages=conversation,\n",
    "        model=model,\n",
    "        temperature=0.0,\n",
    "        max_tokens=100\n",
    "    )\n",
    "\n",
    "    # Extract the text from the model's response\n",
    "    assistant_response_text = response.choices[0].message.content\n",
    "\n",
    "    # Add the assistant's response to the conversation\n",
    "    assistant_message = {\"role\": \"assistant\", \"content\": assistant_response_text}\n",
    "    conversation.append(assistant_message)\n",
    "\n",
    "# Print the complete conversation\n",
    "for entry in conversation:\n",
    "    print(f\"Role: {entry['role']}, Content: {entry['content']}\")"
   ]
  }
 ],
 "metadata": {
  "editor": "DataLab",
  "kernelspec": {
   "display_name": "Python 3 (ipykernel)",
   "language": "python",
   "name": "python3"
  },
  "language_info": {
   "codemirror_mode": {
    "name": "ipython",
    "version": 3
   },
   "file_extension": ".py",
   "mimetype": "text/x-python",
   "name": "python",
   "nbconvert_exporter": "python",
   "pygments_lexer": "ipython3",
   "version": "3.8.10"
  }
 },
 "nbformat": 4,
 "nbformat_minor": 5
}

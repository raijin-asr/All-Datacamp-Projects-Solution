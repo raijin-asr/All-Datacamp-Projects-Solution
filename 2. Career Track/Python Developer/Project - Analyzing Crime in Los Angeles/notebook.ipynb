{
 "cells": [
  {
   "cell_type": "markdown",
   "id": "31ab2131-3049-4d8d-b9dc-d195f72af27a",
   "metadata": {},
   "source": [
    "![Los Angeles skyline](la_skyline.jpg)\n",
    "\n",
    "Los Angeles, California 😎. The City of Angels. Tinseltown. The Entertainment Capital of the World! \n",
    "\n",
    "Known for its warm weather, palm trees, sprawling coastline, and Hollywood, along with producing some of the most iconic films and songs. However, as with any highly populated city, it isn't always glamorous and there can be a large volume of crime. That's where you can help!\n",
    "\n",
    "You have been asked to support the Los Angeles Police Department (LAPD) by analyzing crime data to identify patterns in criminal behavior. They plan to use your insights to allocate resources effectively to tackle various crimes in different areas.\n",
    "\n",
    "## The Data\n",
    "\n",
    "They have provided you with a single dataset to use. A summary and preview are provided below.\n",
    "\n",
    "It is a modified version of the original data, which is publicly available from Los Angeles Open Data.\n",
    "\n",
    "# crimes.csv\n",
    "\n",
    "| Column     | Description              |\n",
    "|------------|--------------------------|\n",
    "| `'DR_NO'` | Division of Records Number: Official file number made up of a 2-digit year, area ID, and 5 digits. |\n",
    "| `'Date Rptd'` | Date reported - MM/DD/YYYY. |\n",
    "| `'DATE OCC'` | Date of occurrence - MM/DD/YYYY. |\n",
    "| `'TIME OCC'` | In 24-hour military time. |\n",
    "| `'AREA NAME'` | The 21 Geographic Areas or Patrol Divisions are also given a name designation that references a landmark or the surrounding community that it is responsible for. For example, the 77th Street Division is located at the intersection of South Broadway and 77th Street, serving neighborhoods in South Los Angeles. |\n",
    "| `'Crm Cd Desc'` | Indicates the crime committed. |\n",
    "| `'Vict Age'` | Victim's age in years. |\n",
    "| `'Vict Sex'` | Victim's sex: `F`: Female, `M`: Male, `X`: Unknown. |\n",
    "| `'Vict Descent'` | Victim's descent:<ul><li>`A` - Other Asian</li><li>`B` - Black</li><li>`C` - Chinese</li><li>`D` - Cambodian</li><li>`F` - Filipino</li><li>`G` - Guamanian</li><li>`H` - Hispanic/Latin/Mexican</li><li>`I` - American Indian/Alaskan Native</li><li>`J` - Japanese</li><li>`K` - Korean</li><li>`L` - Laotian</li><li>`O` - Other</li><li>`P` - Pacific Islander</li><li>`S` - Samoan</li><li>`U` - Hawaiian</li><li>`V` - Vietnamese</li><li>`W` - White</li><li>`X` - Unknown</li><li>`Z` - Asian Indian</li> |\n",
    "| `'Weapon Desc'` | Description of the weapon used (if applicable). |\n",
    "| `'Status Desc'` | Crime status. |\n",
    "| `'LOCATION'` | Street address of the crime. |"
   ]
  },
  {
   "cell_type": "code",
   "execution_count": null,
   "id": "7c6c3c36-5c8b-4cce-8681-95292b8f0861",
   "metadata": {
    "executionCancelledAt": null,
    "executionTime": 4762,
    "lastExecutedAt": 1750087066093,
    "lastExecutedByKernel": "fdb7be79-7ef7-4d19-b7e3-5aca234701f6",
    "lastScheduledRunId": null,
    "lastSuccessfullyExecutedCode": "# Re-run this cell\n# Import required libraries\nimport pandas as pd\nimport numpy as np\nimport matplotlib.pyplot as plt\nimport seaborn as sns\ncrimes = pd.read_csv(\"crimes.csv\", dtype={\"TIME OCC\": str})\ncrimes.head()",
    "outputsMetadata": {
     "0": {
      "chartState": {
       "chartModel": {
        "cellRange": {
         "columns": [],
         "rowEndIndex": null,
         "rowEndPinned": null,
         "rowStartIndex": null,
         "rowStartPinned": null
        },
        "chartId": "id-x5fgfis6eed",
        "chartOptions": {
         "common": {
          "animation": {
           "enabled": true
          }
         }
        },
        "chartPalette": {
         "altDown": {
          "fill": "#ffa03a",
          "stroke": "#cc6f10"
         },
         "altNeutral": {
          "fill": "#b5b5b5",
          "stroke": "#575757"
         },
         "altUp": {
          "fill": "#5090dc",
          "stroke": "#2b5c95"
         },
         "down": {
          "fill": "#ef5452",
          "stroke": "#a82529"
         },
         "fills": [
          "#6568A0",
          "#43D7A4",
          "#4095DB",
          "#FACC5F",
          "#CAE279",
          "#F08083",
          "#5BCDF2",
          "#F099DC",
          "#965858",
          "#7DB64F",
          "#A98954"
         ],
         "neutral": {
          "fill": "#b5b5b5",
          "stroke": "#575757"
         },
         "strokes": [
          "#6568A0",
          "#43D7A4",
          "#4095DB",
          "#FACC5F",
          "#CAE279",
          "#F08083",
          "#5BCDF2",
          "#F099DC",
          "#965858",
          "#7DB64F",
          "#A98954"
         ],
         "up": {
          "fill": "#459d55",
          "stroke": "#1e652e"
         }
        },
        "chartThemeName": "datalabTheme",
        "chartType": "groupedColumn",
        "modelType": "range",
        "suppressChartRanges": false,
        "switchCategorySeries": false,
        "unlinkChart": false,
        "version": "32.2.2"
       },
       "rangeChartModel": {
        "rangeColumns": [],
        "switchCategorySeries": false
       }
      },
      "height": 550,
      "tableState": {
       "quickFilterText": ""
      },
      "type": "dataFrame"
     }
    },
    "version": "ag-charts-v1",
    "visualizeDataframe": false
   },
   "outputs": [
    {
     "data": {
      "application/com.datacamp.data-table.v2+json": {
       "table": {
        "data": {
         "AREA NAME": [
          "Southwest",
          "Olympic",
          "Hollywood",
          "77th Street",
          "Rampart"
         ],
         "Crm Cd Desc": [
          "THEFT OF IDENTITY",
          "THEFT OF IDENTITY",
          "THEFT OF IDENTITY",
          "THEFT OF IDENTITY",
          "THEFT OF IDENTITY"
         ],
         "DATE OCC": [
          "2020-05-12",
          "2020-06-04",
          "2020-08-17",
          "2020-01-27",
          "2020-07-14"
         ],
         "DR_NO": [
          220314085,
          222013040,
          220614831,
          231207725,
          220213256
         ],
         "Date Rptd": [
          "2022-07-22",
          "2022-08-06",
          "2022-08-18",
          "2023-02-27",
          "2022-07-14"
         ],
         "LOCATION": [
          "2500 S  SYCAMORE                     AV",
          "3300    SAN MARINO                   ST",
          "1900    TRANSIENT",
          "6200    4TH                          AV",
          "1200 W  7TH                          ST"
         ],
         "Status Desc": [
          "Invest Cont",
          "Invest Cont",
          "Invest Cont",
          "Invest Cont",
          "Invest Cont"
         ],
         "TIME OCC": [
          "1110",
          "1620",
          "1200",
          "0635",
          "0900"
         ],
         "Vict Age": [
          27,
          60,
          28,
          37,
          79
         ],
         "Vict Descent": [
          "B",
          "H",
          "H",
          "H",
          "B"
         ],
         "Vict Sex": [
          "F",
          "M",
          "M",
          "M",
          "M"
         ],
         "Weapon Desc": [
          null,
          null,
          null,
          null,
          null
         ],
         "index": [
          0,
          1,
          2,
          3,
          4
         ]
        },
        "schema": {
         "fields": [
          {
           "name": "index",
           "type": "integer"
          },
          {
           "name": "DR_NO",
           "type": "integer"
          },
          {
           "name": "Date Rptd",
           "type": "string"
          },
          {
           "name": "DATE OCC",
           "type": "string"
          },
          {
           "name": "TIME OCC",
           "type": "string"
          },
          {
           "name": "AREA NAME",
           "type": "string"
          },
          {
           "name": "Crm Cd Desc",
           "type": "string"
          },
          {
           "name": "Vict Age",
           "type": "integer"
          },
          {
           "name": "Vict Sex",
           "type": "string"
          },
          {
           "name": "Vict Descent",
           "type": "string"
          },
          {
           "name": "Weapon Desc",
           "type": "string"
          },
          {
           "name": "Status Desc",
           "type": "string"
          },
          {
           "name": "LOCATION",
           "type": "string"
          }
         ],
         "pandas_version": "1.4.0",
         "primaryKey": [
          "index"
         ]
        }
       },
       "total_rows": 5,
       "truncation_type": null
      },
      "text/html": [
       "<div>\n",
       "<style scoped>\n",
       "    .dataframe tbody tr th:only-of-type {\n",
       "        vertical-align: middle;\n",
       "    }\n",
       "\n",
       "    .dataframe tbody tr th {\n",
       "        vertical-align: top;\n",
       "    }\n",
       "\n",
       "    .dataframe thead th {\n",
       "        text-align: right;\n",
       "    }\n",
       "</style>\n",
       "<table border=\"1\" class=\"dataframe\">\n",
       "  <thead>\n",
       "    <tr style=\"text-align: right;\">\n",
       "      <th></th>\n",
       "      <th>DR_NO</th>\n",
       "      <th>Date Rptd</th>\n",
       "      <th>DATE OCC</th>\n",
       "      <th>TIME OCC</th>\n",
       "      <th>AREA NAME</th>\n",
       "      <th>Crm Cd Desc</th>\n",
       "      <th>Vict Age</th>\n",
       "      <th>Vict Sex</th>\n",
       "      <th>Vict Descent</th>\n",
       "      <th>Weapon Desc</th>\n",
       "      <th>Status Desc</th>\n",
       "      <th>LOCATION</th>\n",
       "    </tr>\n",
       "  </thead>\n",
       "  <tbody>\n",
       "    <tr>\n",
       "      <th>0</th>\n",
       "      <td>220314085</td>\n",
       "      <td>2022-07-22</td>\n",
       "      <td>2020-05-12</td>\n",
       "      <td>1110</td>\n",
       "      <td>Southwest</td>\n",
       "      <td>THEFT OF IDENTITY</td>\n",
       "      <td>27</td>\n",
       "      <td>F</td>\n",
       "      <td>B</td>\n",
       "      <td>NaN</td>\n",
       "      <td>Invest Cont</td>\n",
       "      <td>2500 S  SYCAMORE                     AV</td>\n",
       "    </tr>\n",
       "    <tr>\n",
       "      <th>1</th>\n",
       "      <td>222013040</td>\n",
       "      <td>2022-08-06</td>\n",
       "      <td>2020-06-04</td>\n",
       "      <td>1620</td>\n",
       "      <td>Olympic</td>\n",
       "      <td>THEFT OF IDENTITY</td>\n",
       "      <td>60</td>\n",
       "      <td>M</td>\n",
       "      <td>H</td>\n",
       "      <td>NaN</td>\n",
       "      <td>Invest Cont</td>\n",
       "      <td>3300    SAN MARINO                   ST</td>\n",
       "    </tr>\n",
       "    <tr>\n",
       "      <th>2</th>\n",
       "      <td>220614831</td>\n",
       "      <td>2022-08-18</td>\n",
       "      <td>2020-08-17</td>\n",
       "      <td>1200</td>\n",
       "      <td>Hollywood</td>\n",
       "      <td>THEFT OF IDENTITY</td>\n",
       "      <td>28</td>\n",
       "      <td>M</td>\n",
       "      <td>H</td>\n",
       "      <td>NaN</td>\n",
       "      <td>Invest Cont</td>\n",
       "      <td>1900    TRANSIENT</td>\n",
       "    </tr>\n",
       "    <tr>\n",
       "      <th>3</th>\n",
       "      <td>231207725</td>\n",
       "      <td>2023-02-27</td>\n",
       "      <td>2020-01-27</td>\n",
       "      <td>0635</td>\n",
       "      <td>77th Street</td>\n",
       "      <td>THEFT OF IDENTITY</td>\n",
       "      <td>37</td>\n",
       "      <td>M</td>\n",
       "      <td>H</td>\n",
       "      <td>NaN</td>\n",
       "      <td>Invest Cont</td>\n",
       "      <td>6200    4TH                          AV</td>\n",
       "    </tr>\n",
       "    <tr>\n",
       "      <th>4</th>\n",
       "      <td>220213256</td>\n",
       "      <td>2022-07-14</td>\n",
       "      <td>2020-07-14</td>\n",
       "      <td>0900</td>\n",
       "      <td>Rampart</td>\n",
       "      <td>THEFT OF IDENTITY</td>\n",
       "      <td>79</td>\n",
       "      <td>M</td>\n",
       "      <td>B</td>\n",
       "      <td>NaN</td>\n",
       "      <td>Invest Cont</td>\n",
       "      <td>1200 W  7TH                          ST</td>\n",
       "    </tr>\n",
       "  </tbody>\n",
       "</table>\n",
       "</div>"
      ],
      "text/plain": [
       "       DR_NO   Date Rptd  ...  Status Desc                                 LOCATION\n",
       "0  220314085  2022-07-22  ...  Invest Cont  2500 S  SYCAMORE                     AV\n",
       "1  222013040  2022-08-06  ...  Invest Cont  3300    SAN MARINO                   ST\n",
       "2  220614831  2022-08-18  ...  Invest Cont                        1900    TRANSIENT\n",
       "3  231207725  2023-02-27  ...  Invest Cont  6200    4TH                          AV\n",
       "4  220213256  2022-07-14  ...  Invest Cont  1200 W  7TH                          ST\n",
       "\n",
       "[5 rows x 12 columns]"
      ]
     },
     "execution_count": 1,
     "metadata": {
      "application/com.datacamp.data-table.v2+json": {
       "status": "success"
      }
     },
     "output_type": "execute_result"
    }
   ],
   "source": [
    "import pandas as pd\n",
    "import numpy as np\n",
    "import matplotlib.pyplot as plt\n",
    "import seaborn as sns\n",
    "crimes = pd.read_csv(\"crimes.csv\", dtype={\"TIME OCC\": str})\n",
    "crimes.head()"
   ]
  },
  {
   "cell_type": "code",
   "execution_count": null,
   "id": "53eada96-447c-46c3-9848-f4ca3de53d06",
   "metadata": {
    "executionCancelledAt": null,
    "executionTime": 66,
    "lastExecutedAt": 1750087066159,
    "lastExecutedByKernel": "fdb7be79-7ef7-4d19-b7e3-5aca234701f6",
    "lastScheduledRunId": null,
    "lastSuccessfullyExecutedCode": "# Start coding here\n# Use as many cells as you need\n\n# 1. Finding the frequencies of crimes by the hour of occurrence\n# Extract the hour from \"TIME OCC\" and convert to integer\ncrimes[\"HOUR OCC\"] = crimes[\"TIME OCC\"].str[:2].astype(int)\n\n# Find the hour with the highest frequency of crimes\npeak_crime_hour = crimes[\"HOUR OCC\"].value_counts().index[0]\n\nprint(f\"The hour with the highest frequency of crimes is: {peak_crime_hour}\")\n",
    "outputsMetadata": {
     "0": {
      "height": 38,
      "type": "stream"
     }
    }
   },
   "outputs": [
    {
     "name": "stdout",
     "output_type": "stream",
     "text": [
      "The hour with the highest frequency of crimes is: 12\n"
     ]
    }
   ],
   "source": [
    "# 1. Finding the frequencies of crimes by the hour of occurrence\n",
    "# Extract the hour from \"TIME OCC\" and convert to integer\n",
    "crimes[\"HOUR OCC\"] = crimes[\"TIME OCC\"].str[:2].astype(int)\n",
    "\n",
    "# Find the hour with the highest frequency of crimes\n",
    "peak_crime_hour = crimes[\"HOUR OCC\"].value_counts().index[0]\n",
    "\n",
    "print(f\"The hour with the highest frequency of crimes is: {peak_crime_hour}\")\n"
   ]
  },
  {
   "cell_type": "code",
   "execution_count": 3,
   "id": "dee23161-7699-44d6-8d1c-c8280b8530f1",
   "metadata": {
    "executionCancelledAt": null,
    "executionTime": 46,
    "lastExecutedAt": 1750087066205,
    "lastExecutedByKernel": "fdb7be79-7ef7-4d19-b7e3-5aca234701f6",
    "lastScheduledRunId": null,
    "lastSuccessfullyExecutedCode": "# 2. Identifying the area with the most night crime\n# Night crimes are committed between 10pm (22) and 3:59am (3)\nnight_hours = [22, 23, 0, 1, 2, 3]\nnight_crimes = crimes[crimes[\"HOUR OCC\"].isin(night_hours)]\n\n# Count night crimes by area\nnight_crime_counts_by_area = night_crimes[\"AREA NAME\"].value_counts()\n\n# Identify the area with the largest frequency of night crimes\npeak_night_crime_location = night_crime_counts_by_area.index[0]\n\nprint(f\"\\nThe area with the largest frequency of night crimes is: {peak_night_crime_location}\")\n",
    "outputsMetadata": {
     "0": {
      "height": 59,
      "type": "stream"
     }
    }
   },
   "outputs": [
    {
     "name": "stdout",
     "output_type": "stream",
     "text": [
      "\n",
      "The area with the largest frequency of night crimes is: Central\n"
     ]
    }
   ],
   "source": [
    "# 2. Identifying the area with the most night crime\n",
    "# Night crimes are committed between 10pm (22) and 3:59am (3)\n",
    "night_hours = [22, 23, 0, 1, 2, 3]\n",
    "night_crimes = crimes[crimes[\"HOUR OCC\"].isin(night_hours)]\n",
    "\n",
    "# Count night crimes by area\n",
    "night_crime_counts_by_area = night_crimes[\"AREA NAME\"].value_counts()\n",
    "\n",
    "# Identify the area with the largest frequency of night crimes\n",
    "peak_night_crime_location = night_crime_counts_by_area.index[0]\n",
    "\n",
    "print(f\"\\nThe area with the largest frequency of night crimes is: {peak_night_crime_location}\")\n"
   ]
  },
  {
   "cell_type": "code",
   "execution_count": 4,
   "id": "58717474-071f-4da7-a1c7-2c0023e16926",
   "metadata": {
    "executionCancelledAt": null,
    "executionTime": 57,
    "lastExecutedAt": 1750087066262,
    "lastExecutedByKernel": "fdb7be79-7ef7-4d19-b7e3-5aca234701f6",
    "lastScheduledRunId": null,
    "lastSuccessfullyExecutedCode": "# 3. Crimes by age group\n# Define bins and labels for age groups\nage_bins = [0, 17, 25, 34, 44, 54, 64, np.inf]\nage_labels = [\"0-17\", \"18-25\", \"26-34\", \"35-44\", \"45-54\", \"55-64\", \"65+\"]\n\n# Create a new column 'Vict Age Group' by binning 'Vict Age'\ncrimes[\"Vict Age Group\"] = pd.cut(crimes[\"Vict Age\"], bins=age_bins, labels=age_labels, right=True)\n\n# Count crimes by victim age group\nvictim_ages = crimes[\"Vict Age Group\"].value_counts().sort_index()\n\nprint(f\"\\nNumber of crimes committed against victims of different age groups:\\n {victim_ages}\")",
    "outputsMetadata": {
     "0": {
      "height": 227,
      "type": "stream"
     }
    }
   },
   "outputs": [
    {
     "name": "stdout",
     "output_type": "stream",
     "text": [
      "\n",
      "Number of crimes committed against victims of different age groups:\n",
      " 0-17      4528\n",
      "18-25    28291\n",
      "26-34    47470\n",
      "35-44    42157\n",
      "45-54    28353\n",
      "55-64    20169\n",
      "65+      14747\n",
      "Name: Vict Age Group, dtype: int64\n"
     ]
    }
   ],
   "source": [
    "# 3. Crimes by age group\n",
    "# Define bins and labels for age groups\n",
    "age_bins = [0, 17, 25, 34, 44, 54, 64, np.inf]\n",
    "age_labels = [\"0-17\", \"18-25\", \"26-34\", \"35-44\", \"45-54\", \"55-64\", \"65+\"]\n",
    "\n",
    "# Create a new column 'Vict Age Group' by binning 'Vict Age'\n",
    "crimes[\"Vict Age Group\"] = pd.cut(crimes[\"Vict Age\"], bins=age_bins, labels=age_labels, right=True)\n",
    "\n",
    "# Count crimes by victim age group\n",
    "victim_ages = crimes[\"Vict Age Group\"].value_counts().sort_index()\n",
    "\n",
    "print(f\"\\nNumber of crimes committed against victims of different age groups:\\n {victim_ages}\")"
   ]
  }
 ],
 "metadata": {
  "colab": {
   "name": "Welcome to DataCamp Workspaces.ipynb",
   "provenance": []
  },
  "kernelspec": {
   "display_name": "Python 3 (ipykernel)",
   "language": "python",
   "name": "python3"
  },
  "language_info": {
   "codemirror_mode": {
    "name": "ipython",
    "version": 3
   },
   "file_extension": ".py",
   "mimetype": "text/x-python",
   "name": "python",
   "nbconvert_exporter": "python",
   "pygments_lexer": "ipython3",
   "version": "3.8.10"
  }
 },
 "nbformat": 4,
 "nbformat_minor": 5
}
